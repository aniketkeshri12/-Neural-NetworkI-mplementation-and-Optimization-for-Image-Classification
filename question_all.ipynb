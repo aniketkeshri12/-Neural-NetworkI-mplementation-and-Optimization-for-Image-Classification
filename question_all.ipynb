{
  "cells": [
    {
      "cell_type": "code",
      "execution_count": null,
      "metadata": {
        "colab": {
          "base_uri": "https://localhost:8080/"
        },
        "id": "40CJWAIEl9sY",
        "outputId": "cd38b286-ace8-4f0c-8558-092d66b0c420"
      },
      "outputs": [
        {
          "output_type": "stream",
          "name": "stdout",
          "text": [
            "Collecting wandb\n",
            "  Downloading wandb-0.16.4-py3-none-any.whl (2.2 MB)\n",
            "\u001b[2K     \u001b[90m━━━━━━━━━━━━━━━━━━━━━━━━━━━━━━━━━━━━━━━━\u001b[0m \u001b[32m2.2/2.2 MB\u001b[0m \u001b[31m10.9 MB/s\u001b[0m eta \u001b[36m0:00:00\u001b[0m\n",
            "\u001b[?25hRequirement already satisfied: Click!=8.0.0,>=7.1 in /usr/local/lib/python3.10/dist-packages (from wandb) (8.1.7)\n",
            "Collecting GitPython!=3.1.29,>=1.0.0 (from wandb)\n",
            "  Downloading GitPython-3.1.42-py3-none-any.whl (195 kB)\n",
            "\u001b[2K     \u001b[90m━━━━━━━━━━━━━━━━━━━━━━━━━━━━━━━━━━━━━━━━\u001b[0m \u001b[32m195.4/195.4 kB\u001b[0m \u001b[31m11.0 MB/s\u001b[0m eta \u001b[36m0:00:00\u001b[0m\n",
            "\u001b[?25hRequirement already satisfied: requests<3,>=2.0.0 in /usr/local/lib/python3.10/dist-packages (from wandb) (2.31.0)\n",
            "Requirement already satisfied: psutil>=5.0.0 in /usr/local/lib/python3.10/dist-packages (from wandb) (5.9.5)\n",
            "Collecting sentry-sdk>=1.0.0 (from wandb)\n",
            "  Downloading sentry_sdk-1.42.0-py2.py3-none-any.whl (263 kB)\n",
            "\u001b[2K     \u001b[90m━━━━━━━━━━━━━━━━━━━━━━━━━━━━━━━━━━━━━━━━\u001b[0m \u001b[32m263.5/263.5 kB\u001b[0m \u001b[31m11.2 MB/s\u001b[0m eta \u001b[36m0:00:00\u001b[0m\n",
            "\u001b[?25hCollecting docker-pycreds>=0.4.0 (from wandb)\n",
            "  Downloading docker_pycreds-0.4.0-py2.py3-none-any.whl (9.0 kB)\n",
            "Requirement already satisfied: PyYAML in /usr/local/lib/python3.10/dist-packages (from wandb) (6.0.1)\n",
            "Collecting setproctitle (from wandb)\n",
            "  Downloading setproctitle-1.3.3-cp310-cp310-manylinux_2_5_x86_64.manylinux1_x86_64.manylinux_2_17_x86_64.manylinux2014_x86_64.whl (30 kB)\n",
            "Requirement already satisfied: setuptools in /usr/local/lib/python3.10/dist-packages (from wandb) (67.7.2)\n",
            "Requirement already satisfied: appdirs>=1.4.3 in /usr/local/lib/python3.10/dist-packages (from wandb) (1.4.4)\n",
            "Requirement already satisfied: protobuf!=4.21.0,<5,>=3.19.0 in /usr/local/lib/python3.10/dist-packages (from wandb) (3.20.3)\n",
            "Requirement already satisfied: six>=1.4.0 in /usr/local/lib/python3.10/dist-packages (from docker-pycreds>=0.4.0->wandb) (1.16.0)\n",
            "Collecting gitdb<5,>=4.0.1 (from GitPython!=3.1.29,>=1.0.0->wandb)\n",
            "  Downloading gitdb-4.0.11-py3-none-any.whl (62 kB)\n",
            "\u001b[2K     \u001b[90m━━━━━━━━━━━━━━━━━━━━━━━━━━━━━━━━━━━━━━━━\u001b[0m \u001b[32m62.7/62.7 kB\u001b[0m \u001b[31m6.2 MB/s\u001b[0m eta \u001b[36m0:00:00\u001b[0m\n",
            "\u001b[?25hRequirement already satisfied: charset-normalizer<4,>=2 in /usr/local/lib/python3.10/dist-packages (from requests<3,>=2.0.0->wandb) (3.3.2)\n",
            "Requirement already satisfied: idna<4,>=2.5 in /usr/local/lib/python3.10/dist-packages (from requests<3,>=2.0.0->wandb) (3.6)\n",
            "Requirement already satisfied: urllib3<3,>=1.21.1 in /usr/local/lib/python3.10/dist-packages (from requests<3,>=2.0.0->wandb) (2.0.7)\n",
            "Requirement already satisfied: certifi>=2017.4.17 in /usr/local/lib/python3.10/dist-packages (from requests<3,>=2.0.0->wandb) (2024.2.2)\n",
            "Collecting smmap<6,>=3.0.1 (from gitdb<5,>=4.0.1->GitPython!=3.1.29,>=1.0.0->wandb)\n",
            "  Downloading smmap-5.0.1-py3-none-any.whl (24 kB)\n",
            "Installing collected packages: smmap, setproctitle, sentry-sdk, docker-pycreds, gitdb, GitPython, wandb\n",
            "Successfully installed GitPython-3.1.42 docker-pycreds-0.4.0 gitdb-4.0.11 sentry-sdk-1.42.0 setproctitle-1.3.3 smmap-5.0.1 wandb-0.16.4\n"
          ]
        }
      ],
      "source": [
        "!pip install wandb"
      ],
      "id": "40CJWAIEl9sY"
    },
    {
      "cell_type": "markdown",
      "metadata": {
        "id": "jVWg_RZ46Vbt"
      },
      "source": [
        "Importing Libraries"
      ],
      "id": "jVWg_RZ46Vbt"
    },
    {
      "cell_type": "code",
      "execution_count": null,
      "metadata": {
        "id": "2315322e"
      },
      "outputs": [],
      "source": [
        "import numpy as np\n",
        "from tqdm import tqdm\n",
        "import wandb\n",
        "import matplotlib.pyplot as plt\n",
        "import copy\n",
        "from keras.datasets import fashion_mnist\n",
        "from keras.datasets import mnist\n",
        "import seaborn as sns"
      ],
      "id": "2315322e"
    },
    {
      "cell_type": "markdown",
      "metadata": {
        "id": "8cSAxAqdaDNm"
      },
      "source": [
        "# Question 1 (2 Marks)\n",
        "Download the fashion-MNIST dataset and plot 1 sample image for each class as shown in the grid below. Use ```from keras.datasets import fashion_mnist``` for getting the fashion mnist dataset."
      ],
      "id": "8cSAxAqdaDNm"
    },
    {
      "cell_type": "code",
      "execution_count": null,
      "metadata": {
        "colab": {
          "base_uri": "https://localhost:8080/"
        },
        "id": "YoFrj3cnaEmP",
        "outputId": "d7b31890-f19d-4f34-ba26-a2fb12b31b17"
      },
      "outputs": [
        {
          "output_type": "stream",
          "name": "stdout",
          "text": [
            "Downloading data from https://storage.googleapis.com/tensorflow/tf-keras-datasets/train-labels-idx1-ubyte.gz\n",
            "29515/29515 [==============================] - 0s 0us/step\n",
            "Downloading data from https://storage.googleapis.com/tensorflow/tf-keras-datasets/train-images-idx3-ubyte.gz\n",
            "26421880/26421880 [==============================] - 0s 0us/step\n",
            "Downloading data from https://storage.googleapis.com/tensorflow/tf-keras-datasets/t10k-labels-idx1-ubyte.gz\n",
            "5148/5148 [==============================] - 0s 0us/step\n",
            "Downloading data from https://storage.googleapis.com/tensorflow/tf-keras-datasets/t10k-images-idx3-ubyte.gz\n",
            "4422102/4422102 [==============================] - 0s 0us/step\n"
          ]
        }
      ],
      "source": [
        "(x_train, y_train), (x_test, y_test)=fashion_mnist.load_data()"
      ],
      "id": "YoFrj3cnaEmP"
    },
    {
      "cell_type": "code",
      "execution_count": null,
      "metadata": {
        "id": "utKdEAc5aJSF"
      },
      "outputs": [],
      "source": [
        "def all_classes():\n",
        "    i=0\n",
        "    arr=[]\n",
        "    j=0\n",
        "    class_names=['T-shirt/Top','Trouser','Pullover','Dress','Coat',   #classes\n",
        "                  'Sandal','Shirt','Sneaker','Bag','Ankle boot']\n",
        "\n",
        "    class_remaning=list(range(0,10))\n",
        "    while len(class_remaning):\n",
        "        if y_train[i] ==j :\n",
        "            class_remaning.remove(j)\n",
        "            plt.figure(figsize=(5, 5)) #will plot 10x10 inches figure\n",
        "            plt.yticks([])\n",
        "            plt.imshow(x_train[i],cmap='gray')\n",
        "            plt.grid(False)\n",
        "            plt.xticks([]) #remove x axis tick lines\n",
        "            plt.title('Class'+str(class_names[j]))\n",
        "            plt.show()\n",
        "            arr.append(np.expand_dims(x_train[i],axis=-1))\n",
        "            j+=1\n",
        "        i+=1\n",
        "    return arr, class_names"
      ],
      "id": "utKdEAc5aJSF"
    },
    {
      "cell_type": "code",
      "execution_count": null,
      "metadata": {
        "colab": {
          "base_uri": "https://localhost:8080/",
          "height": 1000
        },
        "id": "UNXEAQ2qaLKg",
        "outputId": "513863d6-0d99-4e58-f955-05fa644959f9"
      },
      "outputs": [
        {
          "output_type": "display_data",
          "data": {
            "text/plain": [
              "<Figure size 500x500 with 1 Axes>"
            ],
            "image/png": "[encoded data removed]"
          },
          "metadata": {}
        },
        {
          "output_type": "display_data",
          "data": {
            "text/plain": [
              "<Figure size 500x500 with 1 Axes>"
            ],
            "image/png": "[encoded data removed]"
          },
          "metadata": {}
        },
        {
          "output_type": "display_data",
          "data": {
            "text/plain": [
              "<Figure size 500x500 with 1 Axes>"
            ],
            "image/png": "[encoded data removed]"
          },
          "metadata": {}
        },
        {
          "output_type": "display_data",
          "data": {
            "text/plain": [
              "<Figure size 500x500 with 1 Axes>"
            ],
            "image/png": "[encoded data removed]"
          },
          "metadata": {}
        },
        {
          "output_type": "display_data",
          "data": {
            "text/plain": [
              "<Figure size 500x500 with 1 Axes>"
            ],
            "image/png": "[encoded data removed]"
          },
          "metadata": {}
        },
        {
          "output_type": "display_data",
          "data": {
            "text/plain": [
              "<Figure size 500x500 with 1 Axes>"
            ],
            "image/png": "[encoded data removed]"
          },
          "metadata": {}
        },
        {
          "output_type": "display_data",
          "data": {
            "text/plain": [
              "<Figure size 500x500 with 1 Axes>"
            ],
            "image/png": "[encoded data removed]"
          },
          "metadata": {}
        },
        {
          "output_type": "display_data",
          "data": {
            "text/plain": [
              "<Figure size 500x500 with 1 Axes>"
            ],
            "image/png": "[encoded data removed]"
          },
          "metadata": {}
        },
        {
          "output_type": "display_data",
          "data": {
            "text/plain": [
              "<Figure size 500x500 with 1 Axes>"
            ],
            "image/png": "[encoded data removed]"
          },
          "metadata": {}
        },
        {
          "output_type": "display_data",
          "data": {
            "text/plain": [
              "<Figure size 500x500 with 1 Axes>"
            ],
            "image/png": "[encoded data removed]"
          },
          "metadata": {}
        }
      ],
      "source": [
        "image_array , label_array = all_classes()"
      ],
      "id": "UNXEAQ2qaLKg"
    },
    {
      "cell_type": "code",
      "execution_count": null,
      "metadata": {
        "colab": {
          "base_uri": "https://localhost:8080/"
        },
        "id": "DsgJ3ZOqaNv4",
        "outputId": "e88b07b1-0b1b-498e-f846-2383cf491353"
      },
      "outputs": [
        {
          "output_type": "stream",
          "name": "stderr",
          "text": [
            "\u001b[34m\u001b[1mwandb\u001b[0m: W&B API key is configured. Use \u001b[1m`wandb login --relogin`\u001b[0m to force relogin\n",
            "\u001b[34m\u001b[1mwandb\u001b[0m: \u001b[33mWARNING\u001b[0m If you're specifying your api key in code, ensure this code is not shared publicly.\n",
            "\u001b[34m\u001b[1mwandb\u001b[0m: \u001b[33mWARNING\u001b[0m Consider setting the WANDB_API_KEY environment variable, or running `wandb login` from the command line.\n",
            "\u001b[34m\u001b[1mwandb\u001b[0m: Appending key for api.wandb.ai to your netrc file: /root/.netrc\n"
          ]
        },
        {
          "output_type": "execute_result",
          "data": {
            "text/plain": [
              "True"
            ]
          },
          "metadata": {},
          "execution_count": 6
        }
      ],
      "source": [
        "wandb.login(key='5157ae11e5d243722bc57912a56718dc8ef2f734')"
      ],
      "id": "DsgJ3ZOqaNv4"
    },
    {
      "cell_type": "code",
      "execution_count": null,
      "metadata": {
        "colab": {
          "base_uri": "https://localhost:8080/",
          "height": 173,
          "referenced_widgets": [
            "86d39a66fd034c9b95702322011b170c",
            "080f56aedf4b49d1a98579967a58fbc4",
            "8fe71274ad044b3e8e8361ab84a6b2d8",
            "a8e9d8261a614c86805f67065c2c663d",
            "51f8a4d047e44773974abb1a49c95be7",
            "f2f729153cc84ff388b25350fc18b584",
            "5f03f72fa22c47ee85740ee916febcc0",
            "f6a181fe0c4247cb971e7356566c74c9"
          ]
        },
        "id": "bwsSmxqhaQUy",
        "outputId": "8d0bd64b-b7a1-438d-8f1f-efaf08be8cea"
      },
      "outputs": [
        {
          "output_type": "stream",
          "name": "stderr",
          "text": [
            "\u001b[34m\u001b[1mwandb\u001b[0m: Currently logged in as: \u001b[33mcs23m013\u001b[0m. Use \u001b[1m`wandb login --relogin`\u001b[0m to force relogin\n"
          ]
        },
        {
          "output_type": "display_data",
          "data": {
            "text/plain": [
              "<IPython.core.display.HTML object>"
            ],
            "text/html": [
              "Tracking run with wandb version 0.16.4"
            ]
          },
          "metadata": {}
        },
        {
          "output_type": "display_data",
          "data": {
            "text/plain": [
              "<IPython.core.display.HTML object>"
            ],
            "text/html": [
              "Run data is saved locally in <code>/content/wandb/run-20240316_200232-question 1</code>"
            ]
          },
          "metadata": {}
        },
        {
          "output_type": "display_data",
          "data": {
            "text/plain": [
              "<IPython.core.display.HTML object>"
            ],
            "text/html": [
              "Syncing run <strong><a href='https://wandb.ai/cs23m013/CS23M013_DL_A1/runs/question%201' target=\"_blank\">question 1</a></strong> to <a href='https://wandb.ai/cs23m013/CS23M013_DL_A1' target=\"_blank\">Weights & Biases</a> (<a href='https://wandb.me/run' target=\"_blank\">docs</a>)<br/>"
            ]
          },
          "metadata": {}
        },
        {
          "output_type": "display_data",
          "data": {
            "text/plain": [
              "<IPython.core.display.HTML object>"
            ],
            "text/html": [
              " View project at <a href='https://wandb.ai/cs23m013/CS23M013_DL_A1' target=\"_blank\">https://wandb.ai/cs23m013/CS23M013_DL_A1</a>"
            ]
          },
          "metadata": {}
        },
        {
          "output_type": "display_data",
          "data": {
            "text/plain": [
              "<IPython.core.display.HTML object>"
            ],
            "text/html": [
              " View run at <a href='https://wandb.ai/cs23m013/CS23M013_DL_A1/runs/question%201' target=\"_blank\">https://wandb.ai/cs23m013/CS23M013_DL_A1/runs/question%201</a>"
            ]
          },
          "metadata": {}
        },
        {
          "output_type": "display_data",
          "data": {
            "text/plain": [
              "VBox(children=(Label(value='0.005 MB of 0.015 MB uploaded\\r'), FloatProgress(value=0.34934607645875254, max=1.…"
            ],
            "application/vnd.jupyter.widget-view+json": {
              "version_major": 2,
              "version_minor": 0,
              "model_id": "86d39a66fd034c9b95702322011b170c"
            }
          },
          "metadata": {}
        },
        {
          "output_type": "display_data",
          "data": {
            "text/plain": [
              "<IPython.core.display.HTML object>"
            ],
            "text/html": [
              " View run <strong style=\"color:#cdcd00\">question 1</strong> at: <a href='https://wandb.ai/cs23m013/CS23M013_DL_A1/runs/question%201' target=\"_blank\">https://wandb.ai/cs23m013/CS23M013_DL_A1/runs/question%201</a><br/>Synced 4 W&B file(s), 10 media file(s), 0 artifact file(s) and 0 other file(s)"
            ]
          },
          "metadata": {}
        },
        {
          "output_type": "display_data",
          "data": {
            "text/plain": [
              "<IPython.core.display.HTML object>"
            ],
            "text/html": [
              "Find logs at: <code>./wandb/run-20240316_200232-question 1/logs</code>"
            ]
          },
          "metadata": {}
        }
      ],
      "source": [
        "wandb.init(project=\"CS23M013_DL_A1\",id=\"question 1\")\n",
        "i=0\n",
        "while i<10:\n",
        "    images = wandb.Image(image_array[i], caption=label_array[i])\n",
        "    wandb.log({\"Fashion_MNIST\": images})\n",
        "    i+=1\n",
        "wandb.run.finish()"
      ],
      "id": "bwsSmxqhaQUy"
    },
    {
      "cell_type": "markdown",
      "metadata": {
        "id": "E7vDJAE7aS8b"
      },
      "source": [
        "# Question 2 (10 Marks)\n",
        "Implement a feedforward neural network which takes images from the fashion-mnist data as input and outputs a probability distribution over the 10 classes.\n",
        "\n",
        "Your code should be flexible such that it is easy to change the number of hidden layers and the number of neurons in each hidden layer."
      ],
      "id": "E7vDJAE7aS8b"
    },
    {
      "cell_type": "markdown",
      "metadata": {
        "id": "U83-xVVX6ytS"
      },
      "source": [
        "Creating all activation functions"
      ],
      "id": "U83-xVVX6ytS"
    },
    {
      "cell_type": "code",
      "execution_count": null,
      "metadata": {
        "id": "94c5e650"
      },
      "outputs": [],
      "source": [
        "def activation_functions(activation):\n",
        "\n",
        "    def sigmoid(x): #sigmoid function\n",
        "        return 1/(1 + np.exp(-x))\n",
        "\n",
        "    def softmax(x): #softmax function\n",
        "        m=x-np.max(x,axis=0)\n",
        "        n=np.exp(m)\n",
        "        return n/np.sum(n,axis=0)\n",
        "\n",
        "    def ReLU(x):   #ReLU activation function\n",
        "        return np.maximum(0, x)\n",
        "\n",
        "\n",
        "    def identity(x):#identity function\n",
        "        return x\n",
        "\n",
        "    #choices for all the activation functions\n",
        "    if activation == 'sigmoid':\n",
        "      activation_function = sigmoid\n",
        "    elif activation == 'softmax':\n",
        "      activation_function = softmax\n",
        "    elif activation == 'tanh':\n",
        "      activation_function = np.tanh\n",
        "    elif activation == 'ReLU':\n",
        "      activation_function = ReLU\n",
        "    elif activation == 'identity':\n",
        "      activation_function = identity\n",
        "    else:\n",
        "      activation_function = ReLU\n",
        "\n",
        "    return activation_function"
      ],
      "id": "94c5e650"
    },
    {
      "cell_type": "markdown",
      "metadata": {
        "id": "siClI3Gi63lh"
      },
      "source": [
        "Defining Derivatives of all Activation functions"
      ],
      "id": "siClI3Gi63lh"
    },
    {
      "cell_type": "code",
      "execution_count": null,
      "metadata": {
        "id": "f384261c"
      },
      "outputs": [],
      "source": [
        "def activation_diff(activation):\n",
        "\n",
        "\n",
        "    def sigmoid_diff(x): #derivative of sigmoid\n",
        "        ex_p=(1 + np.exp(-x))\n",
        "        minus_ex_p=(1 + np.exp(x))\n",
        "        sig= np.where(x >= 0, 1 / ex_p, np.exp(x) / minus_ex_p)\n",
        "        sig= sig * ( 1-sig)\n",
        "        return sig\n",
        "\n",
        "\n",
        "    def softmax_diff(x): #derivative of softmax function\n",
        "        z=x-np.max(x,axis=0)\n",
        "        ex_pp=np.exp(z)\n",
        "        soft=ex_pp/np.sum(ex_pp,axis=0)\n",
        "        soft = soft*(1-soft)\n",
        "        return soft\n",
        "\n",
        "\n",
        "    def tanh_diff(x):   #derivative of tanh function\n",
        "        return 1-np.tanh(x)**2\n",
        "\n",
        "    def ReLU_diff(x):   #derivative of ReLU function\n",
        "        return np.where(x >= 0,1,0)\n",
        "\n",
        "    def identity_diff(x): #derivative of identity function\n",
        "        return 1\n",
        "\n",
        "    #choices\n",
        "    if activation=='sigmoid':\n",
        "        deri= sigmoid_diff\n",
        "    elif activation=='softmax':\n",
        "        deri= softmax_diff\n",
        "    elif activation=='identity':\n",
        "        deri= identity_diff\n",
        "    elif activation=='tanh':\n",
        "        deri= tanh_diff\n",
        "    elif activation=='ReLU':\n",
        "        deri= ReLU_diff\n",
        "\n",
        "    return deri\n",
        "\n",
        "    #catching error\n",
        "    assert(activation=='ReLU'or activation=='tanh'or activation=='sigmoid' or activation=='softmax' or activation=='identity'), 'Must be \\'ReLU\\'or \\'tanh\\' or \\'sigmoid\\' or \\'softmax\\' '\n"
      ],
      "id": "f384261c"
    },
    {
      "cell_type": "markdown",
      "metadata": {
        "id": "df__xgu268ey"
      },
      "source": [
        "Defining Loss functions"
      ],
      "id": "df__xgu268ey"
    },
    {
      "cell_type": "code",
      "execution_count": null,
      "metadata": {
        "id": "4c0621d8"
      },
      "outputs": [],
      "source": [
        "def loss_function(loss='cross_entropy'):\n",
        "\n",
        "    def cross_entropy(m,n):  #cross_entropy loss function\n",
        "        a=(1e-30)\n",
        "        b=m.shape[1]\n",
        "        i = 0\n",
        "        x = 0\n",
        "        while i < b:\n",
        "          x -= np.dot(m[:, i], np.log2(n[:, i] + a))\n",
        "          i += 1\n",
        "        return   x\n",
        "\n",
        "    def mean_squared_error(m,n):     #squared mean loss function\n",
        "        m=m-n\n",
        "        m=m*m\n",
        "        return np.sum(m)\n",
        "\n",
        "    #choices\n",
        "    if loss==\"mean_squared_error\":\n",
        "        val= mean_squared_error\n",
        "    elif loss==\"cross_entropy\":\n",
        "        val= cross_entropy\n",
        "    else:\n",
        "        val =  cross_entropy\n",
        "    return val\n"
      ],
      "id": "4c0621d8"
    },
    {
      "cell_type": "markdown",
      "metadata": {
        "id": "zaNM7hd06_8f"
      },
      "source": [
        "Defining Derivative of Loss functions"
      ],
      "id": "zaNM7hd06_8f"
    },
    {
      "cell_type": "code",
      "execution_count": null,
      "metadata": {
        "id": "6a254663"
      },
      "outputs": [],
      "source": [
        "def loss_diff(loss):\n",
        "\n",
        "    def mean_squared_error_diff(input_y,predicted_y):   #derivative of squared mean loss function\n",
        "\n",
        "        y=input_y.ravel()\n",
        "\n",
        "        def signifier(i,j):\n",
        "                a=1\n",
        "                if i!=j:\n",
        "                    return 0\n",
        "                else:\n",
        "                    return a\n",
        "\n",
        "        y_pred=predicted_y.ravel()\n",
        "        j = 0\n",
        "        result = []\n",
        "        while j < len(y):\n",
        "          i = 0\n",
        "          sum_value = 0\n",
        "          while i < y.shape[0]:\n",
        "            sum_value += (y_pred[i] - y[i]) * y[i] * (signifier(i, j) - y_pred[j])\n",
        "            i += 1\n",
        "          result.append([2 * np.sum(sum_value)])\n",
        "          j += 1\n",
        "\n",
        "        result = np.array(result)\n",
        "\n",
        "\n",
        "    def cross_entropy_diff(y,y_pred):  #derivative of cross entropy\n",
        "        return -(y-y_pred)\n",
        "\n",
        "    #choices\n",
        "    if loss==\"cross_entropy\":\n",
        "        l_oss= cross_entropy_diff\n",
        "    else:\n",
        "        l_oss= mean_squared_error_diff\n",
        "    return l_oss\n"
      ],
      "id": "6a254663"
    },
    {
      "cell_type": "markdown",
      "metadata": {
        "id": "kK8jANcp7EFD"
      },
      "source": [
        "Defining Class to initiate default values of Weight and Bias"
      ],
      "id": "kK8jANcp7EFD"
    },
    {
      "cell_type": "code",
      "execution_count": null,
      "metadata": {
        "id": "c48942c8"
      },
      "outputs": [],
      "source": [
        "class layer:  #class to initiate all layers default parameters\n",
        "    def __init__(self,input_layer,output_layer,activation='sigmoid',batch_size=2,weight_init='random'):\n",
        "\n",
        "        self.b=np.zeros((output_layer,1))\n",
        "        self.a=np.zeros((output_layer,batch_size))\n",
        "        self.h=np.zeros((output_layer,batch_size))\n",
        "        #choices\n",
        "        if weight_init=='Xavier':\n",
        "            r=np.sqrt(6/(input_layer+output_layer))\n",
        "            a=np.random.uniform(-r,r,(output_layer,input_layer))\n",
        "            self.W=a\n",
        "\n",
        "        elif weight_init=='random':\n",
        "            scale=0.01\n",
        "            a= np.random.randn(output_layer,input_layer)*scale\n",
        "            self.W =a\n",
        "\n",
        "        else:\n",
        "            a=np.random.randn(output_layer,input_layer)\n",
        "            a=a*np.sqrt(2/input_layer)\n",
        "            self.W= a\n",
        "\n",
        "        #initilizing layers parameters\n",
        "        self.g=activation_functions(activation)\n",
        "        self.d_a=np.zeros((output_layer,batch_size))\n",
        "        def SEE(P,Q):\n",
        "          aa=np.sum(P-Q)\n",
        "          return np.sum(np.square(P-Q))\n",
        "        self.d_h=np.zeros((output_layer,batch_size))\n",
        "        #initilizing layers parameters\n",
        "        self.d_W=np.zeros((output_layer,input_layer))\n",
        "        #initilizing layers parameters\n",
        "        self.d_b=np.zeros((output_layer,1))\n",
        "        def _mul(self, i,j):\n",
        "          return np.sum(np.square(i-j))\n",
        "\n",
        "        self.d_g=activation_diff(activation)\n",
        "\n",
        "\n",
        "    def forward_propogation(self, inputs): #forward propogation\n",
        "        c=np.matmul(self.W,inputs)\n",
        "        self.a=self.b+c\n",
        "        self.h=self.g(self.a)\n",
        "        return self.h"
      ],
      "id": "c48942c8"
    },
    {
      "cell_type": "markdown",
      "metadata": {
        "id": "DA65lpgk7NdY"
      },
      "source": [
        "Class Implementing Forward and Backward Propogation"
      ],
      "id": "DA65lpgk7NdY"
    },
    {
      "cell_type": "code",
      "execution_count": null,
      "metadata": {
        "id": "06f18d47"
      },
      "outputs": [],
      "source": [
        "class Neural_Network_DL: #class for forward and backward\n",
        "    def __init__(self,X_size,Y_size,hidden_size,hidden_layer_activations,hidden_layer_initializations,loss,lamdba_m,batch_size):\n",
        "\n",
        "        sz1=X_size\n",
        "        self.input_size=sz1\n",
        "        sz2=Y_size\n",
        "        self.output_size=sz2\n",
        "        hz=hidden_size\n",
        "        self.hidden_layer_sizes=hz\n",
        "        self.layers=[]\n",
        "        bz=batch_size\n",
        "        self.batch_size=bz\n",
        "        prev_size=self.input_size\n",
        "\n",
        "\n",
        "        i = 0\n",
        "        while i < len(hidden_size):\n",
        "            size = hidden_size[i]\n",
        "            activation = hidden_layer_activations[i]\n",
        "            inits = hidden_layer_initializations[i]\n",
        "\n",
        "            self.layers.append(layer(prev_size, size, activation, batch_size, inits))\n",
        "            prev_size = size\n",
        "\n",
        "            i += 1\n",
        "\n",
        "        self.layers.append(layer(size,self.output_size,'softmax',batch_size,'Xavier'))\n",
        "        self.loss=loss_function(loss)\n",
        "\n",
        "        def forward__(self,x):\n",
        "\n",
        "          c= np.sum(np.square(i))\n",
        "          return  c\n",
        "\n",
        "        self.loss_d=loss_diff(loss)\n",
        "        self.lamdba_m=lamdba_m\n",
        "\n",
        "\n",
        "    def forward_propogation(self, x):\n",
        "        # Initialize the output with the input\n",
        "        output = x\n",
        "        # Forward propagate through each layer\n",
        "        i = 0\n",
        "        while i < len(self.layers):\n",
        "            output = self.layers[i].forward_propogation(output)\n",
        "            i += 1\n",
        "        # Return the final output after forward propagation\n",
        "        return output\n",
        "\n",
        "\n",
        "    #defining backward propogation\n",
        "    def backward_propogation(self,x,y,y_pred):\n",
        "\n",
        "        self.layers[-1].d_a=self.loss_d(y,y_pred)\n",
        "\n",
        "        for idx in range(len(self.layers)-1,0,-1):\n",
        "\n",
        "            #Derivative wrt parameters\n",
        "            self.layers[idx].d_W=np.dot(self.layers[idx].d_a,np.transpose(self.layers[idx-1].h))+ self.lamdba_m * self.layers[idx].W\n",
        "            self.layers[idx].d_b=np.sum(self.layers[idx].d_a,axis=1,keepdims=True)\n",
        "\n",
        "            #Derivative wrt hidden layers\n",
        "            self.layers[idx-1].d_h=np.matmul(np.transpose(self.layers[idx].W),self.layers[idx].d_a)\n",
        "\n",
        "            #derivative of the activation function of layer idx-1\n",
        "            self.layers[idx-1].d_a=self.layers[idx-1].d_h*self.layers[idx-1].d_g(self.layers[idx-1].a)\n",
        "\n",
        "        assert(idx-1==0)\n",
        "        temp=self.lamdba_m*self.layers[0].W\n",
        "        self.layers[0].d_W= np.dot(self.layers[0].d_a,np.transpose(x)) + temp\n",
        "        self.layers[0].d_b=np.sum(self.layers[0].d_a,axis=1,keepdims=True)\n",
        "\n",
        "    _bool=True\n",
        "    def predict(self,Xtest,probab=_bool):\n",
        "        if probab:\n",
        "            return self.forward_propogation(Xtest)\n",
        "        _to_return = np.argmax(self.forward(Xtest),axis=0)\n",
        "        return _to_return\n"
      ],
      "id": "06f18d47"
    },
    {
      "cell_type": "code",
      "execution_count": null,
      "metadata": {
        "id": "d6f3a091"
      },
      "outputs": [],
      "source": [
        "a=(1,2)"
      ],
      "id": "d6f3a091"
    },
    {
      "cell_type": "markdown",
      "metadata": {
        "id": "71P4jmAh7eJm"
      },
      "source": [
        "# Question 3 (24 Marks)\n",
        "\n",
        "Implement the backpropagation algorithm with support for the following optimisation functions\n",
        "\n",
        "- sgd\n",
        "- momentum based gradient descent\n",
        "- nesterov accelerated gradient descent\n",
        "- rmsprop\n",
        "- adam\n",
        "- nadam\n",
        "\n",
        "(12 marks for the backpropagation framework and 2 marks for each of the optimisation algorithms above)\n",
        "\n",
        "We will check the code for implementation and ease of use (e.g., how easy it is to add a new optimisation algorithm such as Eve). Note that the code should be flexible enough to work with different batch sizes."
      ],
      "id": "71P4jmAh7eJm"
    },
    {
      "cell_type": "markdown",
      "metadata": {
        "id": "gJWzSbCS7fji"
      },
      "source": [
        "Implementing all Optimizers"
      ],
      "id": "gJWzSbCS7fji"
    },
    {
      "cell_type": "code",
      "execution_count": null,
      "metadata": {
        "id": "ec5a1ddb"
      },
      "outputs": [],
      "source": [
        "class optimizers_wandb:\n",
        "    def __init__(self,X_size,Y_size,num_layers=3,hidden_size=32,activation='ReLU',\n",
        "                 weight_init='random',epsilon=0.000001 ,\n",
        "                 loss='cross_entropy',optimizer='adam',weight_decay=0,batch_size=1,epochs=10,eta=1e-3,beta=0.5 , beta1=0.5 , beta2=0.5,ES=True,log=True):\n",
        "\n",
        "        #assigning self parameters\n",
        "        bz=batch_size\n",
        "        self.batch_size=bz\n",
        "        ep=epochs\n",
        "        self.epochs=ep\n",
        "        hz=hidden_size\n",
        "        self.hidden_size=hz\n",
        "        act=activation\n",
        "        self.activation=act\n",
        "        wt_in=weight_init\n",
        "        self.weight_init=wt_in\n",
        "        wd_c=weight_decay\n",
        "        self.weight_decay=wd_c\n",
        "\n",
        "        #same layer as asked\n",
        "        hidden_layer_sizes=[hidden_size]\n",
        "        hidden_layer_sizes=hidden_layer_sizes*num_layers\n",
        "        hidden_layer_activations=[activation]\n",
        "        hidden_layer_activations=hidden_layer_activations*num_layers\n",
        "        hidden_layer_initializations=[weight_init]\n",
        "        hidden_layer_initializations=hidden_layer_initializations*num_layers\n",
        "        self.neural_Nnetwork_dl=Neural_Network_DL(X_size,Y_size,hidden_layer_sizes,hidden_layer_activations,hidden_layer_initializations,loss,lamdba_m=weight_decay/self.batch_size,batch_size=self.batch_size)\n",
        "        et=eta\n",
        "        self.learning_rate=et\n",
        "        optm=optimizer\n",
        "        self.optimizer=optm\n",
        "\n",
        "\n",
        "        self.train_loss=[]\n",
        "        self.train_acc=[]\n",
        "\n",
        "        o_p='sgd'\n",
        "        if self.optimizer==o_p:\n",
        "            self.batch_size=1\n",
        "\n",
        "        self.val_loss=[]\n",
        "        self.val_acc=[]\n",
        "        self.accuracy=[]\n",
        "\n",
        "\n",
        "        v_al=1e30\n",
        "        pat_i=5\n",
        "        self.log=log\n",
        "        self.ES=ES\n",
        "        if self.ES:\n",
        "            self.ES_best_val_loss=v_al\n",
        "            self.ES_paitence=pat_i\n",
        "            self.ES_neural_Nnetwork_dl=None\n",
        "            self.ES_epoch=-1\n",
        "\n",
        "\n",
        "\n",
        "    def logging_tool_wandb(self,time): #to record loss and accuracy for wandb\n",
        "        v=-1\n",
        "        tl='train_loss'\n",
        "        vl='val_loss'\n",
        "        vc='val_acc'\n",
        "        tc='train_acc'\n",
        "        ac='accuracy'\n",
        "        wandb.log({tl:self.train_loss[v],vl:self.val_loss[v],tc\n",
        "                  :self.train_acc[v],vc:self.val_acc[v],ac:self.accuracy[v],'epoch':time})\n",
        "        epp='epoch'\n",
        "\n",
        "    def looping(self,__modifier,X,Y):\n",
        "        shp=X.shape[1]\n",
        "        reminder=shp%self.batch_size\n",
        "\n",
        "        for t in tqdm(range(self.epochs)):\n",
        "            for i in range(0,np.shape(X)[1]-self.batch_size,self.batch_size):\n",
        "                x=X[:,i:i+self.batch_size]\n",
        "                y=Y[:,i:i+self.batch_size]\n",
        "                y_pred=self.neural_Nnetwork_dl.forward_propogation(x)\n",
        "                self.neural_Nnetwork_dl.backward_propogation(x,y,y_pred)\n",
        "                __modifier(t)\n",
        "\n",
        "            if reminder:\n",
        "                x=np.hstack((X[:,i+self.batch_size:],X[:,:reminder]))\n",
        "                y=np.hstack((Y[:,i+self.batch_size:],Y[:,:reminder]))\n",
        "\n",
        "                y_pred=self.neural_Nnetwork_dl.forward_propogation(x)\n",
        "                for i in range(10):\n",
        "                  c=self.batch_size\n",
        "                  d=self.epochs\n",
        "                self.neural_Nnetwork_dl.backward_propogation(x,y,y_pred)\n",
        "                __modifier(t)\n",
        "\n",
        "            if self.ES:\n",
        "                minus_=-1\n",
        "                if self.ES_best_val_loss>self.val_loss[minus_]:\n",
        "                    self.ES_best_val_loss=self.val_loss[minus_]\n",
        "                    f=5\n",
        "                    time=t\n",
        "                    self.ES_neural_Nnetwork_dl=copy.deepcopy(self.neural_Nnetwork_dl)\n",
        "                    self.patience=f\n",
        "                    self.ES_epoch=t\n",
        "                    if self.log:\n",
        "                        self.logging_tool_wandb(t)\n",
        "\n",
        "                else:\n",
        "                    self.patience-=1\n",
        "                    if not self.patience:\n",
        "                        msg1='Got Early stop at epoch: '\n",
        "                        msg2= \"getting revert to epoch \"\n",
        "                        print(msg1,t,msg2, self.ES_epoch)\n",
        "\n",
        "                        self.calculating_loss(X,Y,Xval,Xval) #Yval\n",
        "                        time=t\n",
        "                        if self.log:\n",
        "                             self.logging_tool_wandb(time)\n",
        "                        self.neural_Nnetwork_dl=self.ES_neural_Nnetwork_dl\n",
        "                        for i in range(10):\n",
        "                            c=self.batch_size\n",
        "                            d=self.epochs\n",
        "                        self.calculating_loss(X,Y,Xval,Xval) #Yval\n",
        "                        for i in range(10):\n",
        "                            c=self.batch_size\n",
        "                            d=self.epochs\n",
        "                        if self.log:\n",
        "                             self.logging_tool_wandb(time)\n",
        "                        return\n",
        "            elif self.log:\n",
        "                 time=t\n",
        "                 self.logging_tool_wandb(time)\n",
        "        if self.ES:\n",
        "            self.neural_Nnetwork_dl=self.ES_neural_Nnetwork_dl\n",
        "    def looping(self,__modifier,X,Y,testdat):\n",
        "        shp=self.batch_size\n",
        "        reminder=X.shape[1]\n",
        "        reminder=reminder%shp\n",
        "\n",
        "        for t in tqdm(range(self.epochs)):\n",
        "            for i in range(0,np.shape(X)[1]-self.batch_size,self.batch_size):\n",
        "                x=X[:,i:i+self.batch_size]\n",
        "                y=Y[:,i:i+self.batch_size]\n",
        "                y_pred=self.neural_Nnetwork_dl.forward_propogation(x)\n",
        "                self.neural_Nnetwork_dl.backward_propogation(x,y,y_pred)\n",
        "                __modifier(t)\n",
        "\n",
        "            if reminder:\n",
        "                x=np.hstack((X[:,i+self.batch_size:],X[:,:reminder]))\n",
        "                y=np.hstack((Y[:,i+self.batch_size:],Y[:,:reminder]))\n",
        "\n",
        "                y_pred=self.neural_Nnetwork_dl.forward_propogation(x)\n",
        "                for i in range(10):\n",
        "                  c=self.batch_size\n",
        "                  d=self.epochs\n",
        "                self.neural_Nnetwork_dl.backward_propogation(x,y,y_pred)\n",
        "                __modifier(t)\n",
        "\n",
        "            if testdat:\n",
        "                Xval,Yval=testdat\n",
        "                for i in range(10):\n",
        "                  c=self.batch_size\n",
        "                  d=self.epochs\n",
        "                self.calculating_loss(X,Y,Xval,Yval)\n",
        "            else:\n",
        "                #fitting\n",
        "                self.fitting_loss(X,Y)\n",
        "                for i in range(10):\n",
        "                  c=self.batch_size\n",
        "                  d=self.epochs\n",
        "\n",
        "            if self.ES:\n",
        "                minus_=-1\n",
        "                if self.ES_best_val_loss>self.val_loss[minus_]:\n",
        "                    self.ES_best_val_loss=self.val_loss[minus_]\n",
        "                    self.ES_neural_Nnetwork_dl=copy.deepcopy(self.neural_Nnetwork_dl)\n",
        "                    self.patience=5\n",
        "                    self.ES_epoch=t\n",
        "                    if self.log:\n",
        "                        v=-1\n",
        "                        tl='train_loss'\n",
        "                        vl='val_loss'\n",
        "                        vc='val_acc'\n",
        "                        tc='train_acc'\n",
        "                        ac='accuracy'\n",
        "                        epp='epoch'\n",
        "                        wandb.log({tl:self.train_loss[v],vl:self.val_loss[v],tc\n",
        "                        :self.train_acc[v],vc:self.val_acc[v],ac:self.accuracy[v],epp:t})\n",
        "\n",
        "\n",
        "                else:\n",
        "                    self.patience-=1\n",
        "                    if not self.patience:\n",
        "                        msg1='Got Early stop at epoch: '\n",
        "                        msg2= \"getting revert to epoch \"\n",
        "                        print(msg1,t,msg2, self.ES_epoch)\n",
        "                        self.calculating_loss(X,Y,Xval,Yval)\n",
        "                        if self.log:\n",
        "                            v=-1\n",
        "                            tl='train_loss'\n",
        "                            vl='val_loss'\n",
        "                            vc='val_acc'\n",
        "                            tc='train_acc'\n",
        "                            ac='accuracy'\n",
        "                            epp='epoch'\n",
        "                            wandb.log({tl:self.train_loss[v],vl:self.val_loss[v],tc\n",
        "                            :self.train_acc[v],vc:self.val_acc[v],ac:self.accuracy[v],epp:t})\n",
        "\n",
        "\n",
        "\n",
        "                        self.neural_Nnetwork_dl=self.ES_neural_Nnetwork_dl\n",
        "                        self.calculating_loss(X,Y,Xval,Yval)\n",
        "                        if self.log:\n",
        "                            v=-1\n",
        "                            tl='train_loss'\n",
        "                            vl='val_loss'\n",
        "                            vc='val_acc'\n",
        "                            tc='train_acc'\n",
        "                            ac='accuracy'\n",
        "                            epp='epoch'\n",
        "                            wandb.log({tl:self.train_loss[v],vl:self.val_loss[v],tc\n",
        "                            :self.train_acc[v],vc:self.val_acc[v],ac:self.accuracy[v],epp:t+1})\n",
        "\n",
        "                        return\n",
        "            elif self.log:\n",
        "                v=-1\n",
        "                tl='train_loss'\n",
        "                vl='val_loss'\n",
        "                vc='val_acc'\n",
        "                tc='train_acc'\n",
        "                ac='accuracy'\n",
        "                epp='epoch'\n",
        "                wandb.log({tl:self.train_loss[v],vl:self.val_loss[v],tc\n",
        "                :self.train_acc[v],vc:self.val_acc[v],ac:self.accuracy[v],epp:t})\n",
        "\n",
        "\n",
        "\n",
        "        if self.ES:\n",
        "            self.neural_Nnetwork_dl=self.ES_neural_Nnetwork_dl\n",
        "\n",
        "\n",
        "    def evaluating_accuracy(self,Y,Ypred):\n",
        "        shp=Y.shape[1]\n",
        "        return np.sum(np.argmax(Ypred,axis=0)==np.argmax(Y,axis=0))/shp\n",
        "\n",
        "    def calculating_loss(self,X,Y,Xval,Yval):\n",
        "            regularization = 0\n",
        "            layers = self.neural_Nnetwork_dl.layers\n",
        "            i = 0\n",
        "            while i < len(layers):\n",
        "                regularization += 0.5 * self.neural_Nnetwork_dl.lamdba_m * np.sum([np.sum(layers[i].W**2)])\n",
        "                i += 1\n",
        "\n",
        "            Ypred=self.neural_Nnetwork_dl.predict(X)\n",
        "            Yvalpred=self.neural_Nnetwork_dl.predict(Xval)\n",
        "            v__=X.shape[1]\n",
        "            self.train_loss.append((self.neural_Nnetwork_dl.loss(Y,Ypred)+regularization)/v__)\n",
        "            for i in range(10):\n",
        "                  c=self.batch_size\n",
        "                  d=self.epochs\n",
        "            x_shp=Xval.shape[1]\n",
        "            self.val_loss.append(self.neural_Nnetwork_dl.loss(Yval,Yvalpred)/x_shp)\n",
        "            self.train_acc.append(self.evaluating_accuracy(Y,Ypred))\n",
        "            x_shp=Xval.shape[1]\n",
        "            self.val_acc.append(self.evaluating_accuracy(Yval,Yvalpred))\n",
        "            self.accuracy.append(self.evaluating_accuracy(Yval,Yvalpred))\n",
        "\n",
        "\n",
        "    def fitting_loss(self,X,Y):\n",
        "        regularization = 0\n",
        "        layers = self.neural_Nnetwork_dl.layers\n",
        "        i = 0\n",
        "        while i < len(layers):\n",
        "               regularization += 0.5 * self.neural_Nnetwork_dl.lamdba_m * np.sum([np.sum(layers[i].W**2)])\n",
        "               i += 1\n",
        "        Ypred=self.neural_Nnetwork_dl.predict(X)\n",
        "        x_shp=X.shape[1]\n",
        "        self.train_loss.append((self.neural_Nnetwork_dl.loss(Y,Ypred)+regularization)/x_shp)\n",
        "        self.train_acc.append(self.evaluating_accuracy(Y,Ypred))\n",
        "\n",
        "\n",
        "    def batch_gradient_descent(self,traindat,testdat): #batch gradient descent\n",
        "        X,Y=traindat\n",
        "        def batch_updation(_):\n",
        "            index = 0\n",
        "            while index < len(self.neural_Nnetwork_dl.layers):\n",
        "\n",
        "              layer = self.neural_Nnetwork_dl.layers[index]\n",
        "              l_d= layer.d_W\n",
        "              l_b= layer.d_b\n",
        "              layer.W = layer.W - self.learning_rate *l_d\n",
        "              layer.b = layer.b - self.learning_rate *l_b\n",
        "              index += 1\n",
        "        __modifier=batch_updation\n",
        "        self.looping(__modifier,X,Y,testdat)\n",
        "\n",
        "\n",
        "    def momentum(self,traindat,testdat,beta=0.9):     #momentum based gradient descent\n",
        "        X,Y=traindat\n",
        "        u_W=[np.zeros(np.shape(layer.d_W)) for layer in self.neural_Nnetwork_dl.layers]\n",
        "        u_b=[np.zeros(np.shape(layer.d_b)) for layer in self.neural_Nnetwork_dl.layers]\n",
        "\n",
        "        def momentum_updation(_):\n",
        "            i = 0\n",
        "            while i < len(self.neural_Nnetwork_dl.layers):\n",
        "              layer = self.neural_Nnetwork_dl.layers[i]\n",
        "              l_w= layer.d_W\n",
        "              u_W[i] = beta * u_W[i] +l_w\n",
        "              l_b=layer.d_b\n",
        "              u_b[i] = beta * u_b[i] + l_b\n",
        "              c=u_W[i]\n",
        "              layer.W = layer.W - self.learning_rate * c\n",
        "              d=u_b[i]\n",
        "              layer.b = layer.b - self.learning_rate * d\n",
        "              i += 1\n",
        "        __modifier=momentum_updation\n",
        "        self.looping(__modifier,X,Y,testdat)\n",
        "\n",
        "\n",
        "    def rmsprop(self,traindat,testdat,beta=0.9,epsilon=1e-10): #rmsprop gradient descent\n",
        "        X,Y=traindat\n",
        "        v_W=[np.zeros(np.shape(layer.d_W)) for layer in self.neural_Nnetwork_dl.layers]\n",
        "        v_b=[np.zeros(np.shape(layer.d_b)) for layer in self.neural_Nnetwork_dl.layers]\n",
        "\n",
        "        def rms_updation(_):\n",
        "                i = 0\n",
        "                while i < len(self.neural_Nnetwork_dl.layers):\n",
        "                  layer = self.neural_Nnetwork_dl.layers[i]\n",
        "                  l_w = layer.d_W ** 2\n",
        "                  v_W[i] = beta * v_W[i] + (1 - beta) * l_w\n",
        "                  l_b=layer.d_b ** 2\n",
        "                  v_b[i] = beta * v_b[i] + (1 - beta) * l_b\n",
        "                  c=layer.d_W\n",
        "                  layer.W = layer.W - (self.learning_rate / np.sqrt(v_W[i] + epsilon)) * c\n",
        "                  d=layer.d_b\n",
        "                  layer.b = layer.b - (self.learning_rate / np.sqrt(v_b[i] + epsilon)) * d\n",
        "                  i += 1\n",
        "        __modifier=rms_updation\n",
        "        self.looping(__modifier,X,Y,testdat)\n",
        "\n",
        "    def Adam(self,traindat,testdat,beta1=0.9, beta2=0.999,epsilon=1e-10): #adam gradient descent\n",
        "\n",
        "        X,Y=traindat\n",
        "        m_W=[np.zeros(np.shape(layer.d_W)) for layer in self.neural_Nnetwork_dl.layers]\n",
        "        v_W=[np.zeros(np.shape(layer.d_W)) for layer in self.neural_Nnetwork_dl.layers]\n",
        "        m_b=[np.zeros(np.shape(layer.d_b)) for layer in self.neural_Nnetwork_dl.layers]\n",
        "        v_b=[np.zeros(np.shape(layer.d_b)) for layer in self.neural_Nnetwork_dl.layers]\n",
        "\n",
        "        def adam_updation(t):\n",
        "            i = 0\n",
        "            while i < len(self.neural_Nnetwork_dl.layers):\n",
        "              layer = self.neural_Nnetwork_dl.layers[i]\n",
        "              # Updating momentum, velocity\n",
        "              m_W[i] = beta1 * m_W[i] + (1 - beta1) * layer.d_W\n",
        "              m_b[i] = beta1 * m_b[i] + (1 - beta1) * layer.d_b\n",
        "\n",
        "              v_W[i] = beta2 * v_W[i] + (1 - beta2) * layer.d_W ** 2\n",
        "              v_b[i] = beta2 * v_b[i] + (1 - beta2) * layer.d_b ** 2\n",
        "\n",
        "              m_W_hat = m_W[i] / (1 - np.power(beta1, t + 1))\n",
        "              m_b_hat = m_b[i] / (1 - np.power(beta1, t + 1))\n",
        "              v_W_hat = v_W[i] / (1 - np.power(beta2, t + 1))\n",
        "              v_b_hat = v_b[i] / (1 - np.power(beta2, t + 1))\n",
        "              e_pw=(np.sqrt(v_W_hat) + epsilon)\n",
        "              layer.W = layer.W - (self.learning_rate * m_W_hat) / e_pw\n",
        "              e_pb=(np.sqrt(v_b_hat) + epsilon)\n",
        "              layer.b = layer.b - (self.learning_rate * m_b_hat) / e_pb\n",
        "\n",
        "              i += 1\n",
        "\n",
        "        __modifier=adam_updation\n",
        "        self.looping(__modifier,X,Y,testdat)\n",
        "\n",
        "    def NAG(self,traindat,testdat,beta=0.9): #Nestrove gradient descent\n",
        "        X,Y=traindat\n",
        "        m_W=[np.zeros(np.shape(layer.d_W)) for layer in self.neural_Nnetwork_dl.layers]\n",
        "        m_b=[np.zeros(np.shape(layer.d_b)) for layer in self.neural_Nnetwork_dl.layers]\n",
        "        def nag_updation(_):\n",
        "            i = 0\n",
        "            while i < len(self.neural_Nnetwork_dl.layers):\n",
        "              layer = self.neural_Nnetwork_dl.layers[i]\n",
        "              l_w=layer.d_W\n",
        "              m_W[i] = beta * m_W[i] + self.learning_rate * l_w\n",
        "              l_b= layer.d_b\n",
        "              m_b[i] = beta * m_b[i] + self.learning_rate *l_b\n",
        "              c=layer.d_W[i]\n",
        "              layer.W = layer.W - (beta * m_W[i] + self.learning_rate * c)\n",
        "              d=layer.d_b[i]\n",
        "              layer.b = layer.b - (beta * m_b[i] + self.learning_rate * d)\n",
        "\n",
        "              i += 1\n",
        "\n",
        "        __modifier=nag_updation\n",
        "        self.looping(__modifier,X,Y,testdat)\n",
        "\n",
        "    def NAdam(self,traindat,testdat,beta1=0.9, beta2=0.999,epsilon=1e-10): #Nadam gradient descent\n",
        "\n",
        "        X,Y=traindat\n",
        "        m_W=[np.zeros(np.shape(layer.d_W)) for layer in self.neural_Nnetwork_dl.layers]\n",
        "        v_W=[np.zeros(np.shape(layer.d_W)) for layer in self.neural_Nnetwork_dl.layers]\n",
        "        m_b=[np.zeros(np.shape(layer.d_b)) for layer in self.neural_Nnetwork_dl.layers]\n",
        "        v_b=[np.zeros(np.shape(layer.d_b)) for layer in self.neural_Nnetwork_dl.layers]\n",
        "\n",
        "        def nadam_updation(t):\n",
        "            i = 0\n",
        "            while i < len(self.neural_Nnetwork_dl.layers):\n",
        "              layer = self.neural_Nnetwork_dl.layers[i]\n",
        "              #updating momentum, velocity\n",
        "              m_W[i] = beta1 * m_W[i] + (1 - beta1) * layer.d_W\n",
        "              m_b[i] = beta1 * m_b[i] + (1 - beta1) * layer.d_b\n",
        "\n",
        "              v_W[i] = beta2 * v_W[i] + (1 - beta2) * layer.d_W ** 2\n",
        "              v_b[i] = beta2 * v_b[i] + (1 - beta2) * layer.d_b ** 2\n",
        "\n",
        "              m_W_hat = m_W[i] / (1 - np.power(beta1, t + 1))\n",
        "              m_b_hat = m_b[i] / (1 - np.power(beta1, t + 1))\n",
        "              v_W_hat = v_W[i] / (1 - np.power(beta2, t + 1))\n",
        "              v_b_hat = v_b[i] / (1 - np.power(beta2, t + 1))\n",
        "\n",
        "              beta_t=(1 - beta1)\n",
        "              layer.W = layer.W - (self.learning_rate / (np.sqrt(v_W_hat) + epsilon)) * \\\n",
        "              (beta1 * m_W_hat + (beta_t / (1 - np.power(beta1, t + 1))) * layer.d_W)\n",
        "              lay_d=layer.d_b\n",
        "              layer.b = layer.b - (self.learning_rate / (np.sqrt(v_b_hat) + epsilon)) * \\\n",
        "              (beta1 * m_b_hat + (beta_t / (1 - np.power(beta1, t + 1))) * lay_d)\n",
        "              i += 1\n",
        "\n",
        "        __modifier=nadam_updation\n",
        "        self.looping(__modifier,X,Y,testdat)\n",
        "    val_1=0.9\n",
        "    val_2=0.999\n",
        "    val_3=1e-10\n",
        "    def plot_loss(self): #Plotting graph after each run\n",
        "        size=10\n",
        "        lab_el=\"Training loss\"\n",
        "        plt.plot(list(range(0,len(self.train_loss))), self.train_loss, 'r', label=lab_el)\n",
        "        lab_vl=\"Validation loss\"\n",
        "        plt.plot(list(range(0,len(self.val_loss))), self.val_loss, 'b', label=lab_vl)\n",
        "        topic=\"Loss vs Epochs\"\n",
        "        plt.title(topic, size=10)\n",
        "        x_l=\"Epochs\"\n",
        "        plt.xlabel(x_l, size=10)\n",
        "        plt.ylabel(\"Loss\", size=10)\n",
        "        plt.legend()\n",
        "        plt.show()\n",
        "\n",
        "\n",
        "    def run(self,traindat,testdat=None,beta=val_1,beta1=val_1, beta2=val_2,epsilon=val_3):\n",
        "        val_1=0.9\n",
        "        val_2=0.999\n",
        "        val_3=1e-10\n",
        "        # choices\n",
        "        _batch=\"batch\"\n",
        "        _sgd=\"sgd\"\n",
        "        _momentum=\"momentum\"\n",
        "        _nag=\"nag\"\n",
        "        _rmsprop=\"rmsprop\"\n",
        "        _adam=\"adam\"\n",
        "        _nadam=\"nadam\"\n",
        "\n",
        "        if self.optimizer==_batch:\n",
        "            self.batch_gradient_descent(traindat,testdat)\n",
        "\n",
        "        elif self.optimizer==_sgd:\n",
        "            assert(self.batch_size==1), \"stochastic gradient descent should have Batch size = 1 \"\n",
        "            self.batch_gradient_descent(traindat,testdat)\n",
        "\n",
        "        elif self.optimizer==_momentum:\n",
        "            self.momentum(traindat,testdat,beta)\n",
        "\n",
        "        elif self.optimizer==_nag:\n",
        "            self.NAG(traindat,testdat,beta)\n",
        "\n",
        "        elif self.optimizer==_rmsprop:\n",
        "            self.rmsprop(traindat,testdat,beta=0.9,epsilon=1e-10)\n",
        "\n",
        "        elif self.optimizer==_adam:\n",
        "            self.Adam(traindat,testdat,beta1=0.9, beta2=0.999,epsilon=1e-10)\n",
        "\n",
        "        elif self.optimizer==_nadam:\n",
        "            self.NAdam(traindat,testdat,beta1=val_1, beta2=val_2,epsilon=val_3)\n",
        "\n",
        "\n",
        "        self.plot_loss() #Plot optimizer's call Plot\n"
      ],
      "id": "ec5a1ddb"
    },
    {
      "cell_type": "markdown",
      "metadata": {
        "id": "40cda233"
      },
      "source": [
        "Importing Dataset"
      ],
      "id": "40cda233"
    },
    {
      "cell_type": "code",
      "source": [
        "def one_hot(inarray): #hot encoding conversion\n",
        "    outarray = np.zeros((inarray.size, inarray.max() + 1))\n",
        "    outarray[np.arange(inarray.size), inarray] = 1\n",
        "    return outarray"
      ],
      "metadata": {
        "id": "aCZbqtkH7dTR"
      },
      "id": "aCZbqtkH7dTR",
      "execution_count": null,
      "outputs": []
    },
    {
      "cell_type": "code",
      "execution_count": null,
      "metadata": {
        "id": "4d78258c"
      },
      "outputs": [],
      "source": [
        "from keras.datasets import fashion_mnist\n",
        "\n",
        "# dataset='fashion_mnist'\n",
        "# if dataset=='fashion_mnist':\n",
        "(X_train, y_train), (X_test, y_test) =fashion_mnist.load_data()\n",
        "# elif dataset=='mnist':\n",
        "#     (X_train, y_train), (X_test, y_test) =mnist.load_data()\n",
        "\n",
        "\n",
        "def dataset_scaling(X,y):\n",
        "    div=255\n",
        "    X_processed=np.reshape(X,(X.shape[0],784))/div\n",
        "    X_processed=X_processed.T\n",
        "    y_processed=one_hot(y).T\n",
        "    return np.array(X_processed),y_processed\n",
        "\n",
        "\n",
        "Xtest,ytest=dataset_scaling(X_test,y_test)\n",
        "from sklearn.model_selection import train_test_split\n",
        "Xtrain,Xval,ytrain,yval=train_test_split(X_train,y_train,test_size=0.1) #test data size 10%\n",
        "Xtrain,ytrain=dataset_scaling(Xtrain,ytrain)\n",
        "Xval,yval=dataset_scaling(Xval,yval)"
      ],
      "id": "4d78258c"
    },
    {
      "cell_type": "markdown",
      "metadata": {
        "id": "bUhJNt_t8DgO"
      },
      "source": [
        "# Question 4 (10 Marks)\n",
        "\n",
        "Use the sweep functionality provided by wandb to find the best values for the hyperparameters listed below. Use the standard train/test split of fashion_mnist (use ```(X_train, y_train), (X_test, y_test) = fashion_mnist.load_data()```).  Keep 10% of the training data aside as validation data for this hyperparameter search. Here are some suggestions for different values to try for hyperparameters. As you can quickly see that this leads to an exponential number of combinations. You will have to think about strategies to do this hyperparameter search efficiently. Check out the options provided by wandb.sweep and write down what strategy you chose and why.\n",
        "\n",
        "- number of epochs: 5, 10\n",
        "- number of hidden layers:  3, 4, 5\n",
        "- size of every hidden layer:  32, 64, 128\n",
        "- weight decay (L2 regularisation): 0, 0.0005,  0.5\n",
        "- learning rate: 1e-3, 1 e-4\n",
        "- optimizer:  sgd, momentum, nesterov, rmsprop, adam, nadam\n",
        "- batch size: 16, 32, 64\n",
        "- weight initialisation: random, Xavier\n",
        "- activation functions: sigmoid, tanh, ReLU\n",
        "\n",
        "wandb will automatically generate the following plots. Paste these plots below using the \"Add Panel to Report\" feature. Make sure you use meaningful names for each sweep (e.g. hl_3_bs_16_ac_tanh to indicate that there were 3 hidden layers, batch size was 16 and activation function was ReLU) instead of using the default names (whole-sweep, kind-sweep) given by wandb."
      ],
      "id": "bUhJNt_t8DgO"
    },
    {
      "cell_type": "code",
      "execution_count": null,
      "metadata": {
        "id": "fabdaefd"
      },
      "outputs": [],
      "source": [
        "def sweep_for_wandb_():\n",
        "\n",
        "    default_configurations={ #default hyper-param vals\n",
        "        'num_layers':1,\n",
        "        'epochs':1,\n",
        "        'beta':0.5,\n",
        "        'activation':'sigmoid',\n",
        "        'beta1':0.5,\n",
        "        'optimizer':'sgd',\n",
        "        'weight_decay':0,\n",
        "        'learning_rate':0.1,\n",
        "        'loss':  'cross_entropy',\n",
        "        'batch_size':4,\n",
        "        'beta2':0.5,\n",
        "        'weight_init':'random',\n",
        "        'epsilon':0.000001,\n",
        "        'hidden_size':4,\n",
        "        'dataset': 'fashion_mnist',\n",
        "        'momentum':0.5\n",
        "\n",
        "    }\n",
        "\n",
        "    wandb.init(config=default_configurations)  # Initialize new wandb run\n",
        "    config = wandb.config   #current config\n",
        "    # np.random.seed(0) #setting a seed to make better inference of use of params\n",
        "    act_=config.activation\n",
        "    weight_=config.weight_decay\n",
        "\n",
        "    epochs_=config.epochs\n",
        "\n",
        "    test_model=optimizers_wandb(X_size=784,Y_size=10,num_layers=config.num_layers, weight_decay=weight_ ,\n",
        "                         activation=act_,\n",
        "                         weight_init=config.weight_init,hidden_size=config.hidden_size,\n",
        "                         optimizer=config.optimizer,batch_size=config.batch_size,epochs=epochs_,eta=config.learning_rate,\n",
        "                         ES=True,loss='cross_entropy' ,beta=config.beta  , beta1=config.beta1 , beta2=config.beta2 , epsilon=config.epsilon)\n",
        "\n",
        "    test_model.run((Xtrain,ytrain),(Xval,yval))\n",
        "    n_for_run='Run num_lay_'\n",
        "    act=' activ_'\n",
        "    l_rate='lrn_rate_'\n",
        "    e_pp=' epochs_'\n",
        "\n",
        "    #naming should be Meaning full\n",
        "\n",
        "    name_for_run=n_for_run + str(config.num_layers) +\\\n",
        "    ' hid_lay_size_' + str(config.hidden_size) +\\\n",
        "    act+ str(config.activation) +\\\n",
        "    ' wt_init_' + str(config.weight_init) +\\\n",
        "    ' Opt_' + str(config.optimizer)+\\\n",
        "    l_rate+ str(config.learning_rate)\n",
        "    ' l2_' + str(config.weight_decay)+\\\n",
        "    ' batch_size_' + str(config.batch_size)+\\\n",
        "    e_pp+str(config.epochs)+'ES'\n",
        "    print(name_for_run)\n",
        "\n",
        "    wandb.run.name = n_for_run\n",
        "    wandb.run.save()\n",
        "    wandb.run.finish()\n"
      ],
      "id": "fabdaefd"
    },
    {
      "cell_type": "code",
      "execution_count": null,
      "metadata": {
        "id": "aa825747",
        "colab": {
          "base_uri": "https://localhost:8080/"
        },
        "outputId": "d32ef26c-62a4-425e-b490-f3dcb720c38f"
      },
      "outputs": [
        {
          "output_type": "stream",
          "name": "stderr",
          "text": [
            "\u001b[34m\u001b[1mwandb\u001b[0m: \u001b[33mWARNING\u001b[0m If you're specifying your api key in code, ensure this code is not shared publicly.\n",
            "\u001b[34m\u001b[1mwandb\u001b[0m: \u001b[33mWARNING\u001b[0m Consider setting the WANDB_API_KEY environment variable, or running `wandb login` from the command line.\n",
            "\u001b[34m\u001b[1mwandb\u001b[0m: Appending key for api.wandb.ai to your netrc file: /root/.netrc\n"
          ]
        },
        {
          "output_type": "execute_result",
          "data": {
            "text/plain": [
              "True"
            ]
          },
          "metadata": {},
          "execution_count": 19
        }
      ],
      "source": [
        "key_='5157ae11e5d243722bc57912a56718dc8ef2f734'\n",
        "wandb.login(key=key_) #Wandb login with my key"
      ],
      "id": "aa825747"
    },
    {
      "cell_type": "code",
      "execution_count": null,
      "metadata": {
        "id": "Wcif9qk3qY6K"
      },
      "outputs": [],
      "source": [
        "sweep_config = {\n",
        "  \"name\": \"testing_50\",\n",
        "  'metric': { 'goal': 'maximize','name': 'accuracy'},\n",
        "  \"method\": \"random\",\n",
        "  \"parameters\": {\n",
        "              'num_layers':{\n",
        "                  \"values\":[3, 4, 5]\n",
        "              },\n",
        "        'hidden_size':{\n",
        "                \"values\":  [32, 64, 128]\n",
        "              },\n",
        "\n",
        "        'activation':{\n",
        "            \"values\": [\"ReLU\" , 'sigmoid' , 'identity' ,'tanh']\n",
        "        },\n",
        "\n",
        "        'loss': {\n",
        "            'values': ['mean_squared_error', 'cross_entropy']\n",
        "            },\n",
        "\n",
        "        'weight_init':{\n",
        "            'values': ['Xavier' , 'random']\n",
        "        },\n",
        "        \"optimizer\": {\n",
        "            \"values\": [\"sgd\"  ,\"momentum\", \"nag\", \"adam\", \"nadam\", \"rmsprop\"]\n",
        "        },\n",
        "        'momentum': {'values': [0.5]},\n",
        "\n",
        "        'beta': {'values': [0.5]},\n",
        "\n",
        "        'beta1': {'values': [0.5]},\n",
        "\n",
        "        'beta2': {'values': [0.5]},\n",
        "\n",
        "        'weight_decay': {'values': [0, 0.0005,  0.5]},\n",
        "\n",
        "        'epsilon': {'values': [1e-10]},\n",
        "\n",
        "        'batch_size': {\n",
        "            \"values\": [16,32,64]\n",
        "        },\n",
        "        'epochs': {\n",
        "            \"values\": [5,10]\n",
        "        } ,\n",
        "        'learning_rate': {\n",
        "            \"values\": [ 1e-3, 1e-4]\n",
        "        },\n",
        "        'dataset':{\n",
        "            # \"values\": [\"mnist\", \"fashion_mnist\"]\n",
        "            \"values\": [\"fashion_mnist\"]\n",
        "\n",
        "        }\n",
        "\n",
        "    }\n",
        "}"
      ],
      "id": "Wcif9qk3qY6K"
    },
    {
      "cell_type": "code",
      "execution_count": null,
      "metadata": {
        "id": "ac233d73",
        "colab": {
          "base_uri": "https://localhost:8080/"
        },
        "outputId": "994d0c7d-023c-4402-ee33-afcb50e9b922"
      },
      "outputs": [
        {
          "output_type": "stream",
          "name": "stdout",
          "text": [
            "Create sweep with ID: bg4n37vl\n",
            "Sweep URL: https://wandb.ai/cs23m013/CS23M013_DL_A1/sweeps/bg4n37vl\n"
          ]
        }
      ],
      "source": [
        "sweep_id = wandb.sweep(sweep_config,project=\"CS23M013_DL_A1\") #creating Sweep with its particular name"
      ],
      "id": "ac233d73"
    },
    {
      "cell_type": "code",
      "execution_count": null,
      "metadata": {
        "id": "e1437e92",
        "colab": {
          "base_uri": "https://localhost:8080/",
          "height": 1000,
          "referenced_widgets": [
            "6dd22a8dfcfd4311994f4ee9756d020b",
            "b10141dbe4af439a8527d830a77de9e6",
            "50633318bbfd4e89896f9f7c873a5b81",
            "25449b3752504c5c9fb13fcec0dffa18",
            "278a8c84e3bc4e0da72a3f6c330348a6",
            "b555b975e9a24c3cb3c009df0728068f",
            "31a6abd8595b4d8ca069ec9c4411ef68",
            "3a167fbb44e048d5ab00b3db08b8f304"
          ]
        },
        "outputId": "8c5016f5-cd3b-402c-f752-b6386ba2c8d0"
      },
      "outputs": [
        {
          "output_type": "stream",
          "name": "stderr",
          "text": [
            "\u001b[34m\u001b[1mwandb\u001b[0m: Agent Starting Run: g9e7k56y with config:\n",
            "\u001b[34m\u001b[1mwandb\u001b[0m: \tactivation: ReLU\n",
            "\u001b[34m\u001b[1mwandb\u001b[0m: \tbatch_size: 64\n",
            "\u001b[34m\u001b[1mwandb\u001b[0m: \tbeta: 0.5\n",
            "\u001b[34m\u001b[1mwandb\u001b[0m: \tbeta1: 0.5\n",
            "\u001b[34m\u001b[1mwandb\u001b[0m: \tbeta2: 0.5\n",
            "\u001b[34m\u001b[1mwandb\u001b[0m: \tdataset: fashion_mnist\n",
            "\u001b[34m\u001b[1mwandb\u001b[0m: \tepochs: 5\n",
            "\u001b[34m\u001b[1mwandb\u001b[0m: \tepsilon: 1e-10\n",
            "\u001b[34m\u001b[1mwandb\u001b[0m: \thidden_size: 32\n",
            "\u001b[34m\u001b[1mwandb\u001b[0m: \tlearning_rate: 0.001\n",
            "\u001b[34m\u001b[1mwandb\u001b[0m: \tloss: cross_entropy\n",
            "\u001b[34m\u001b[1mwandb\u001b[0m: \tmomentum: 0.5\n",
            "\u001b[34m\u001b[1mwandb\u001b[0m: \tnum_layers: 5\n",
            "\u001b[34m\u001b[1mwandb\u001b[0m: \toptimizer: rmsprop\n",
            "\u001b[34m\u001b[1mwandb\u001b[0m: \tweight_decay: 0\n",
            "\u001b[34m\u001b[1mwandb\u001b[0m: \tweight_init: Xavier\n"
          ]
        },
        {
          "output_type": "display_data",
          "data": {
            "text/plain": [
              "<IPython.core.display.HTML object>"
            ],
            "text/html": [
              "Tracking run with wandb version 0.16.4"
            ]
          },
          "metadata": {}
        },
        {
          "output_type": "display_data",
          "data": {
            "text/plain": [
              "<IPython.core.display.HTML object>"
            ],
            "text/html": [
              "Run data is saved locally in <code>/content/wandb/run-20240316_200248-g9e7k56y</code>"
            ]
          },
          "metadata": {}
        },
        {
          "output_type": "display_data",
          "data": {
            "text/plain": [
              "<IPython.core.display.HTML object>"
            ],
            "text/html": [
              "Syncing run <strong><a href='https://wandb.ai/cs23m013/CS23M013_DL_A1/runs/g9e7k56y' target=\"_blank\">peach-sweep-1</a></strong> to <a href='https://wandb.ai/cs23m013/CS23M013_DL_A1' target=\"_blank\">Weights & Biases</a> (<a href='https://wandb.me/run' target=\"_blank\">docs</a>)<br/>Sweep page: <a href='https://wandb.ai/cs23m013/CS23M013_DL_A1/sweeps/bg4n37vl' target=\"_blank\">https://wandb.ai/cs23m013/CS23M013_DL_A1/sweeps/bg4n37vl</a>"
            ]
          },
          "metadata": {}
        },
        {
          "output_type": "display_data",
          "data": {
            "text/plain": [
              "<IPython.core.display.HTML object>"
            ],
            "text/html": [
              " View project at <a href='https://wandb.ai/cs23m013/CS23M013_DL_A1' target=\"_blank\">https://wandb.ai/cs23m013/CS23M013_DL_A1</a>"
            ]
          },
          "metadata": {}
        },
        {
          "output_type": "display_data",
          "data": {
            "text/plain": [
              "<IPython.core.display.HTML object>"
            ],
            "text/html": [
              " View sweep at <a href='https://wandb.ai/cs23m013/CS23M013_DL_A1/sweeps/bg4n37vl' target=\"_blank\">https://wandb.ai/cs23m013/CS23M013_DL_A1/sweeps/bg4n37vl</a>"
            ]
          },
          "metadata": {}
        },
        {
          "output_type": "display_data",
          "data": {
            "text/plain": [
              "<IPython.core.display.HTML object>"
            ],
            "text/html": [
              " View run at <a href='https://wandb.ai/cs23m013/CS23M013_DL_A1/runs/g9e7k56y' target=\"_blank\">https://wandb.ai/cs23m013/CS23M013_DL_A1/runs/g9e7k56y</a>"
            ]
          },
          "metadata": {}
        },
        {
          "output_type": "stream",
          "name": "stderr",
          "text": [
            "100%|██████████| 5/5 [00:11<00:00,  2.27s/it]\n"
          ]
        },
        {
          "output_type": "display_data",
          "data": {
            "text/plain": [
              "<Figure size 640x480 with 1 Axes>"
            ],
            "image/png": "[encoded data removed]"
          },
          "metadata": {}
        },
        {
          "output_type": "stream",
          "name": "stderr",
          "text": [
            "\u001b[34m\u001b[1mwandb\u001b[0m: \u001b[33mWARNING\u001b[0m Calling wandb.run.save without any arguments is deprecated.Changes to attributes are automatically persisted.\n"
          ]
        },
        {
          "output_type": "stream",
          "name": "stdout",
          "text": [
            "Run num_lay_5 hid_lay_size_32 activ_ReLU wt_init_Xavier Opt_rmsproplrn_rate_0.001\n"
          ]
        },
        {
          "output_type": "display_data",
          "data": {
            "text/plain": [
              "VBox(children=(Label(value='0.001 MB of 0.001 MB uploaded\\r'), FloatProgress(value=1.0, max=1.0)))"
            ],
            "application/vnd.jupyter.widget-view+json": {
              "version_major": 2,
              "version_minor": 0,
              "model_id": "6dd22a8dfcfd4311994f4ee9756d020b"
            }
          },
          "metadata": {}
        },
        {
          "output_type": "display_data",
          "data": {
            "text/plain": [
              "<IPython.core.display.HTML object>"
            ],
            "text/html": [
              "<style>\n",
              "    table.wandb td:nth-child(1) { padding: 0 10px; text-align: left ; width: auto;} td:nth-child(2) {text-align: left ; width: 100%}\n",
              "    .wandb-row { display: flex; flex-direction: row; flex-wrap: wrap; justify-content: flex-start; width: 100% }\n",
              "    .wandb-col { display: flex; flex-direction: column; flex-basis: 100%; flex: 1; padding: 10px; }\n",
              "    </style>\n",
              "<div class=\"wandb-row\"><div class=\"wandb-col\"><h3>Run history:</h3><br/><table class=\"wandb\"><tr><td>accuracy</td><td>▁▅▆█</td></tr><tr><td>epoch</td><td>▁▃▆█</td></tr><tr><td>train_acc</td><td>▁▅▇█</td></tr><tr><td>train_loss</td><td>█▄▂▁</td></tr><tr><td>val_acc</td><td>▁▅▆█</td></tr><tr><td>val_loss</td><td>█▃▂▁</td></tr></table><br/></div><div class=\"wandb-col\"><h3>Run summary:</h3><br/><table class=\"wandb\"><tr><td>accuracy</td><td>0.867</td></tr><tr><td>epoch</td><td>3</td></tr><tr><td>train_acc</td><td>0.87448</td></tr><tr><td>train_loss</td><td>0.49346</td></tr><tr><td>val_acc</td><td>0.867</td></tr><tr><td>val_loss</td><td>0.53857</td></tr></table><br/></div></div>"
            ]
          },
          "metadata": {}
        },
        {
          "output_type": "display_data",
          "data": {
            "text/plain": [
              "<IPython.core.display.HTML object>"
            ],
            "text/html": [
              " View run <strong style=\"color:#cdcd00\">peach-sweep-1</strong> at: <a href='https://wandb.ai/cs23m013/CS23M013_DL_A1/runs/g9e7k56y' target=\"_blank\">https://wandb.ai/cs23m013/CS23M013_DL_A1/runs/g9e7k56y</a><br/>Synced 5 W&B file(s), 0 media file(s), 0 artifact file(s) and 0 other file(s)"
            ]
          },
          "metadata": {}
        },
        {
          "output_type": "display_data",
          "data": {
            "text/plain": [
              "<IPython.core.display.HTML object>"
            ],
            "text/html": [
              "Find logs at: <code>./wandb/run-20240316_200248-g9e7k56y/logs</code>"
            ]
          },
          "metadata": {}
        }
      ],
      "source": [
        "wandb.agent(sweep_id,project='CS23M013_DL_A1', function=sweep_for_wandb_, count=1) #Wandb Agent calls"
      ],
      "id": "e1437e92"
    },
    {
      "cell_type": "markdown",
      "metadata": {
        "id": "diOhmRUy8WpG"
      },
      "source": [
        "# Question 7 (10 Marks)\n",
        "\n",
        "For the best model identified above, report the accuracy on the test set of fashion_mnist and plot the confusion matrix as shown below. More marks for creativity (less marks for producing the plot shown below as it is)"
      ],
      "id": "diOhmRUy8WpG"
    },
    {
      "cell_type": "markdown",
      "source": [
        "Best Model"
      ],
      "metadata": {
        "id": "KHDRiCaXdUJ1"
      },
      "id": "KHDRiCaXdUJ1"
    },
    {
      "cell_type": "code",
      "execution_count": null,
      "metadata": {
        "id": "eee15752",
        "colab": {
          "base_uri": "https://localhost:8080/",
          "height": 486
        },
        "outputId": "cc288bcb-41cf-48fd-d520-fbcdb88050af"
      },
      "outputs": [
        {
          "output_type": "stream",
          "name": "stderr",
          "text": [
            "100%|██████████| 10/10 [03:52<00:00, 23.23s/it]\n"
          ]
        },
        {
          "output_type": "display_data",
          "data": {
            "text/plain": [
              "<Figure size 640x480 with 1 Axes>"
            ],
            "image/png": "[encoded data removed]"
          },
          "metadata": {}
        }
      ],
      "source": [
        "#First best model identified above\n",
        "first_best_optimal_model=optimizers_wandb(X_size=784,Y_size=10,num_layers=3,hidden_size=128, activation=\"tanh\",weight_init=\"Xaviern\",epsilon=1e-10 ,\n",
        "optimizer=\"nadam\",weight_decay=0.001,beta=0.5 , beta1=0.5 , beta2=0.5,batch_size=16,epochs=10,eta=1e-3,ES=False,loss='cross_entropy',log=False)\n",
        "first_best_optimal_model.run((Xtrain,ytrain),(Xval,yval))"
      ],
      "id": "eee15752"
    },
    {
      "cell_type": "code",
      "execution_count": null,
      "metadata": {
        "id": "sy21BHRJzc_C",
        "colab": {
          "base_uri": "https://localhost:8080/"
        },
        "outputId": "7939a54b-93e0-4e8f-d7e0-eaf9b2a5e804"
      },
      "outputs": [
        {
          "output_type": "execute_result",
          "data": {
            "text/plain": [
              "0.9166481481481481"
            ]
          },
          "metadata": {},
          "execution_count": 24
        }
      ],
      "source": [
        "first_best_optimal_model.train_acc[-1]"
      ],
      "id": "sy21BHRJzc_C"
    },
    {
      "cell_type": "code",
      "execution_count": null,
      "metadata": {
        "id": "9tBIT-uqzoG2"
      },
      "outputs": [],
      "source": [
        "first_y_test_prediction=first_best_optimal_model.neural_Nnetwork_dl.predict(Xtest,True)"
      ],
      "id": "9tBIT-uqzoG2"
    },
    {
      "cell_type": "code",
      "execution_count": null,
      "metadata": {
        "id": "ee95a618",
        "colab": {
          "base_uri": "https://localhost:8080/"
        },
        "outputId": "313eea00-e755-49c4-a875-cd026295d4bd"
      },
      "outputs": [
        {
          "output_type": "execute_result",
          "data": {
            "text/plain": [
              "0.8819"
            ]
          },
          "metadata": {},
          "execution_count": 26
        }
      ],
      "source": [
        "first_best_optimal_model.evaluating_accuracy(ytest,first_y_test_prediction) #accuracy for First Best model"
      ],
      "id": "ee95a618"
    },
    {
      "cell_type": "code",
      "execution_count": null,
      "metadata": {
        "id": "a4d49660"
      },
      "outputs": [],
      "source": [
        "def onehot_reverse(y_prediction):\n",
        "    return np.argmax(y_prediction, axis=0)"
      ],
      "id": "a4d49660"
    },
    {
      "cell_type": "code",
      "execution_count": null,
      "metadata": {
        "id": "a61e352a",
        "colab": {
          "base_uri": "https://localhost:8080/",
          "height": 981,
          "referenced_widgets": [
            "fe510f705dcd488cbad44c865b5b4a0c",
            "3a898e0e21d9433ab8d7beee29ecd91c",
            "857fb9914a524a7c92c44f815ad4acaf",
            "72ec8afecc8b4d2298b4e5872610c510",
            "c100a84e10424ed9a94ae47063e9bc5e",
            "1b5e572179184edbb1e08eeaf6cec45c",
            "02ac73da4033469ba5870bc43ef64ba2",
            "ea9f409d8aec48e5bf9934b6374766c4"
          ]
        },
        "outputId": "1e8a1dc3-ecc8-4afd-faf2-d74831d822f4"
      },
      "outputs": [
        {
          "output_type": "display_data",
          "data": {
            "text/plain": [
              "<IPython.core.display.HTML object>"
            ],
            "text/html": [
              "Changes to your `wandb` environment variables will be ignored because your `wandb` session has already started. For more information on how to modify your settings with `wandb.init()` arguments, please refer to <a href='https://wandb.me/wandb-init' target=\"_blank\">the W&B docs</a>."
            ]
          },
          "metadata": {}
        },
        {
          "output_type": "stream",
          "name": "stderr",
          "text": [
            "\u001b[34m\u001b[1mwandb\u001b[0m: \u001b[33mWARNING\u001b[0m Ignored wandb.init() arg project when running a sweep.\n",
            "\u001b[34m\u001b[1mwandb\u001b[0m: \u001b[33mWARNING\u001b[0m Ignored wandb.init() arg id when running a sweep.\n"
          ]
        },
        {
          "output_type": "display_data",
          "data": {
            "text/plain": [
              "<IPython.core.display.HTML object>"
            ],
            "text/html": [
              "Tracking run with wandb version 0.16.4"
            ]
          },
          "metadata": {}
        },
        {
          "output_type": "display_data",
          "data": {
            "text/plain": [
              "<IPython.core.display.HTML object>"
            ],
            "text/html": [
              "Run data is saved locally in <code>/content/wandb/run-20240316_200703-g9e7k56y</code>"
            ]
          },
          "metadata": {}
        },
        {
          "output_type": "display_data",
          "data": {
            "text/plain": [
              "<IPython.core.display.HTML object>"
            ],
            "text/html": [
              "Syncing run <strong><a href='https://wandb.ai/cs23m013/CS23M013_DL_A1/runs/g9e7k56y' target=\"_blank\">Run num_lay_</a></strong> to <a href='https://wandb.ai/cs23m013/CS23M013_DL_A1' target=\"_blank\">Weights & Biases</a> (<a href='https://wandb.me/run' target=\"_blank\">docs</a>)<br/>Sweep page: <a href='https://wandb.ai/cs23m013/CS23M013_DL_A1/sweeps/bg4n37vl' target=\"_blank\">https://wandb.ai/cs23m013/CS23M013_DL_A1/sweeps/bg4n37vl</a>"
            ]
          },
          "metadata": {}
        },
        {
          "output_type": "display_data",
          "data": {
            "text/plain": [
              "<IPython.core.display.HTML object>"
            ],
            "text/html": [
              " View project at <a href='https://wandb.ai/cs23m013/CS23M013_DL_A1' target=\"_blank\">https://wandb.ai/cs23m013/CS23M013_DL_A1</a>"
            ]
          },
          "metadata": {}
        },
        {
          "output_type": "display_data",
          "data": {
            "text/plain": [
              "<IPython.core.display.HTML object>"
            ],
            "text/html": [
              " View sweep at <a href='https://wandb.ai/cs23m013/CS23M013_DL_A1/sweeps/bg4n37vl' target=\"_blank\">https://wandb.ai/cs23m013/CS23M013_DL_A1/sweeps/bg4n37vl</a>"
            ]
          },
          "metadata": {}
        },
        {
          "output_type": "display_data",
          "data": {
            "text/plain": [
              "<IPython.core.display.HTML object>"
            ],
            "text/html": [
              " View run at <a href='https://wandb.ai/cs23m013/CS23M013_DL_A1/runs/g9e7k56y' target=\"_blank\">https://wandb.ai/cs23m013/CS23M013_DL_A1/runs/g9e7k56y</a>"
            ]
          },
          "metadata": {}
        },
        {
          "output_type": "display_data",
          "data": {
            "text/plain": [
              "VBox(children=(Label(value='0.052 MB of 0.062 MB uploaded\\r'), FloatProgress(value=0.840721491898502, max=1.0)…"
            ],
            "application/vnd.jupyter.widget-view+json": {
              "version_major": 2,
              "version_minor": 0,
              "model_id": "fe510f705dcd488cbad44c865b5b4a0c"
            }
          },
          "metadata": {}
        },
        {
          "output_type": "display_data",
          "data": {
            "text/plain": [
              "<IPython.core.display.HTML object>"
            ],
            "text/html": [
              " View run <strong style=\"color:#cdcd00\">Run num_lay_</strong> at: <a href='https://wandb.ai/cs23m013/CS23M013_DL_A1/runs/g9e7k56y' target=\"_blank\">https://wandb.ai/cs23m013/CS23M013_DL_A1/runs/g9e7k56y</a><br/>Synced 4 W&B file(s), 1 media file(s), 0 artifact file(s) and 0 other file(s)"
            ]
          },
          "metadata": {}
        },
        {
          "output_type": "display_data",
          "data": {
            "text/plain": [
              "<IPython.core.display.HTML object>"
            ],
            "text/html": [
              "Find logs at: <code>./wandb/run-20240316_200703-g9e7k56y/logs</code>"
            ]
          },
          "metadata": {}
        },
        {
          "output_type": "display_data",
          "data": {
            "text/plain": [
              "<Figure size 900x900 with 2 Axes>"
            ],
            "image/png": "[encoded data removed]"
          },
          "metadata": {}
        }
      ],
      "source": [
        "    y_transposed = onehot_reverse(ytest)\n",
        "    confuse = np.zeros((10, 10), dtype=np.int16)\n",
        "    i = 0\n",
        "\n",
        "    y_pred = onehot_reverse(first_y_test_prediction)\n",
        "    class_labels={0:'0',1:'1',2:'2',3:'3',4:'4',\n",
        "                  5:'5',6:'6',7:'7',8:'8',9:'9'}\n",
        "    while i < len(y_transposed):\n",
        "      confuse[y_transposed[i], y_pred[i]] += 1\n",
        "      i += 1\n",
        "\n",
        "    fig, ax = plt.subplots(figsize=(9, 9))\n",
        "    sns.heatmap(confuse, annot=True, cmap='cividis', fmt='g', ax=ax, cbar=True, square=True)\n",
        "    _xlabel='Predicted class'\n",
        "    ax.set_xlabel(_xlabel, size=14)\n",
        "    _ylabel='True class'\n",
        "    ax.set_ylabel(_ylabel, size=14)\n",
        "    _title='Confusion Matrix For Best Model'\n",
        "    ax.set_title(_title, size=16)\n",
        "\n",
        "    wandb.init(project=\"CS23M013_DL_A1\", id=\"Question 7\")\n",
        "    images = wandb.Image(plt)\n",
        "    wandb.log({\"confusion_matrix\": images})\n",
        "    wandb.run.finish()"
      ],
      "id": "a61e352a"
    },
    {
      "cell_type": "markdown",
      "metadata": {
        "id": "6n6PDPC7wqpt"
      },
      "source": [],
      "id": "6n6PDPC7wqpt"
    }
  ],
  "metadata": {
    "colab": {
      "provenance": []
    },
    "kernelspec": {
      "display_name": "Python 3 (ipykernel)",
      "language": "python",
      "name": "python3"
    },
    "language_info": {
      "codemirror_mode": {
        "name": "ipython",
        "version": 3
      },
      "file_extension": ".py",
      "mimetype": "text/x-python",
      "name": "python",
      "nbconvert_exporter": "python",
      "pygments_lexer": "ipython3",
      "version": "3.10.6"
    },
    "widgets": {
      "application/vnd.jupyter.widget-state+json": {
        "86d39a66fd034c9b95702322011b170c": {
          "model_module": "@jupyter-widgets/controls",
          "model_name": "VBoxModel",
          "model_module_version": "1.5.0",
          "state": {
            "_dom_classes": [],
            "_model_module": "@jupyter-widgets/controls",
            "_model_module_version": "1.5.0",
            "_model_name": "VBoxModel",
            "_view_count": null,
            "_view_module": "@jupyter-widgets/controls",
            "_view_module_version": "1.5.0",
            "_view_name": "VBoxView",
            "box_style": "",
            "children": [
              "IPY_MODEL_080f56aedf4b49d1a98579967a58fbc4",
              "IPY_MODEL_8fe71274ad044b3e8e8361ab84a6b2d8"
            ],
            "layout": "IPY_MODEL_a8e9d8261a614c86805f67065c2c663d"
          }
        },
        "080f56aedf4b49d1a98579967a58fbc4": {
          "model_module": "@jupyter-widgets/controls",
          "model_name": "LabelModel",
          "model_module_version": "1.5.0",
          "state": {
            "_dom_classes": [],
            "_model_module": "@jupyter-widgets/controls",
            "_model_module_version": "1.5.0",
            "_model_name": "LabelModel",
            "_view_count": null,
            "_view_module": "@jupyter-widgets/controls",
            "_view_module_version": "1.5.0",
            "_view_name": "LabelView",
            "description": "",
            "description_tooltip": null,
            "layout": "IPY_MODEL_51f8a4d047e44773974abb1a49c95be7",
            "placeholder": "​",
            "style": "IPY_MODEL_f2f729153cc84ff388b25350fc18b584",
            "value": "0.015 MB of 0.015 MB uploaded\r"
          }
        },
        "8fe71274ad044b3e8e8361ab84a6b2d8": {
          "model_module": "@jupyter-widgets/controls",
          "model_name": "FloatProgressModel",
          "model_module_version": "1.5.0",
          "state": {
            "_dom_classes": [],
            "_model_module": "@jupyter-widgets/controls",
            "_model_module_version": "1.5.0",
            "_model_name": "FloatProgressModel",
            "_view_count": null,
            "_view_module": "@jupyter-widgets/controls",
            "_view_module_version": "1.5.0",
            "_view_name": "ProgressView",
            "bar_style": "",
            "description": "",
            "description_tooltip": null,
            "layout": "IPY_MODEL_5f03f72fa22c47ee85740ee916febcc0",
            "max": 1,
            "min": 0,
            "orientation": "horizontal",
            "style": "IPY_MODEL_f6a181fe0c4247cb971e7356566c74c9",
            "value": 1
          }
        },
        "a8e9d8261a614c86805f67065c2c663d": {
          "model_module": "@jupyter-widgets/base",
          "model_name": "LayoutModel",
          "model_module_version": "1.2.0",
          "state": {
            "_model_module": "@jupyter-widgets/base",
            "_model_module_version": "1.2.0",
            "_model_name": "LayoutModel",
            "_view_count": null,
            "_view_module": "@jupyter-widgets/base",
            "_view_module_version": "1.2.0",
            "_view_name": "LayoutView",
            "align_content": null,
            "align_items": null,
            "align_self": null,
            "border": null,
            "bottom": null,
            "display": null,
            "flex": null,
            "flex_flow": null,
            "grid_area": null,
            "grid_auto_columns": null,
            "grid_auto_flow": null,
            "grid_auto_rows": null,
            "grid_column": null,
            "grid_gap": null,
            "grid_row": null,
            "grid_template_areas": null,
            "grid_template_columns": null,
            "grid_template_rows": null,
            "height": null,
            "justify_content": null,
            "justify_items": null,
            "left": null,
            "margin": null,
            "max_height": null,
            "max_width": null,
            "min_height": null,
            "min_width": null,
            "object_fit": null,
            "object_position": null,
            "order": null,
            "overflow": null,
            "overflow_x": null,
            "overflow_y": null,
            "padding": null,
            "right": null,
            "top": null,
            "visibility": null,
            "width": null
          }
        },
        "51f8a4d047e44773974abb1a49c95be7": {
          "model_module": "@jupyter-widgets/base",
          "model_name": "LayoutModel",
          "model_module_version": "1.2.0",
          "state": {
            "_model_module": "@jupyter-widgets/base",
            "_model_module_version": "1.2.0",
            "_model_name": "LayoutModel",
            "_view_count": null,
            "_view_module": "@jupyter-widgets/base",
            "_view_module_version": "1.2.0",
            "_view_name": "LayoutView",
            "align_content": null,
            "align_items": null,
            "align_self": null,
            "border": null,
            "bottom": null,
            "display": null,
            "flex": null,
            "flex_flow": null,
            "grid_area": null,
            "grid_auto_columns": null,
            "grid_auto_flow": null,
            "grid_auto_rows": null,
            "grid_column": null,
            "grid_gap": null,
            "grid_row": null,
            "grid_template_areas": null,
            "grid_template_columns": null,
            "grid_template_rows": null,
            "height": null,
            "justify_content": null,
            "justify_items": null,
            "left": null,
            "margin": null,
            "max_height": null,
            "max_width": null,
            "min_height": null,
            "min_width": null,
            "object_fit": null,
            "object_position": null,
            "order": null,
            "overflow": null,
            "overflow_x": null,
            "overflow_y": null,
            "padding": null,
            "right": null,
            "top": null,
            "visibility": null,
            "width": null
          }
        },
        "f2f729153cc84ff388b25350fc18b584": {
          "model_module": "@jupyter-widgets/controls",
          "model_name": "DescriptionStyleModel",
          "model_module_version": "1.5.0",
          "state": {
            "_model_module": "@jupyter-widgets/controls",
            "_model_module_version": "1.5.0",
            "_model_name": "DescriptionStyleModel",
            "_view_count": null,
            "_view_module": "@jupyter-widgets/base",
            "_view_module_version": "1.2.0",
            "_view_name": "StyleView",
            "description_width": ""
          }
        },
        "5f03f72fa22c47ee85740ee916febcc0": {
          "model_module": "@jupyter-widgets/base",
          "model_name": "LayoutModel",
          "model_module_version": "1.2.0",
          "state": {
            "_model_module": "@jupyter-widgets/base",
            "_model_module_version": "1.2.0",
            "_model_name": "LayoutModel",
            "_view_count": null,
            "_view_module": "@jupyter-widgets/base",
            "_view_module_version": "1.2.0",
            "_view_name": "LayoutView",
            "align_content": null,
            "align_items": null,
            "align_self": null,
            "border": null,
            "bottom": null,
            "display": null,
            "flex": null,
            "flex_flow": null,
            "grid_area": null,
            "grid_auto_columns": null,
            "grid_auto_flow": null,
            "grid_auto_rows": null,
            "grid_column": null,
            "grid_gap": null,
            "grid_row": null,
            "grid_template_areas": null,
            "grid_template_columns": null,
            "grid_template_rows": null,
            "height": null,
            "justify_content": null,
            "justify_items": null,
            "left": null,
            "margin": null,
            "max_height": null,
            "max_width": null,
            "min_height": null,
            "min_width": null,
            "object_fit": null,
            "object_position": null,
            "order": null,
            "overflow": null,
            "overflow_x": null,
            "overflow_y": null,
            "padding": null,
            "right": null,
            "top": null,
            "visibility": null,
            "width": null
          }
        },
        "f6a181fe0c4247cb971e7356566c74c9": {
          "model_module": "@jupyter-widgets/controls",
          "model_name": "ProgressStyleModel",
          "model_module_version": "1.5.0",
          "state": {
            "_model_module": "@jupyter-widgets/controls",
            "_model_module_version": "1.5.0",
            "_model_name": "ProgressStyleModel",
            "_view_count": null,
            "_view_module": "@jupyter-widgets/base",
            "_view_module_version": "1.2.0",
            "_view_name": "StyleView",
            "bar_color": null,
            "description_width": ""
          }
        },
        "6dd22a8dfcfd4311994f4ee9756d020b": {
          "model_module": "@jupyter-widgets/controls",
          "model_name": "VBoxModel",
          "model_module_version": "1.5.0",
          "state": {
            "_dom_classes": [],
            "_model_module": "@jupyter-widgets/controls",
            "_model_module_version": "1.5.0",
            "_model_name": "VBoxModel",
            "_view_count": null,
            "_view_module": "@jupyter-widgets/controls",
            "_view_module_version": "1.5.0",
            "_view_name": "VBoxView",
            "box_style": "",
            "children": [
              "IPY_MODEL_b10141dbe4af439a8527d830a77de9e6",
              "IPY_MODEL_50633318bbfd4e89896f9f7c873a5b81"
            ],
            "layout": "IPY_MODEL_25449b3752504c5c9fb13fcec0dffa18"
          }
        },
        "b10141dbe4af439a8527d830a77de9e6": {
          "model_module": "@jupyter-widgets/controls",
          "model_name": "LabelModel",
          "model_module_version": "1.5.0",
          "state": {
            "_dom_classes": [],
            "_model_module": "@jupyter-widgets/controls",
            "_model_module_version": "1.5.0",
            "_model_name": "LabelModel",
            "_view_count": null,
            "_view_module": "@jupyter-widgets/controls",
            "_view_module_version": "1.5.0",
            "_view_name": "LabelView",
            "description": "",
            "description_tooltip": null,
            "layout": "IPY_MODEL_278a8c84e3bc4e0da72a3f6c330348a6",
            "placeholder": "​",
            "style": "IPY_MODEL_b555b975e9a24c3cb3c009df0728068f",
            "value": "0.011 MB of 0.011 MB uploaded\r"
          }
        },
        "50633318bbfd4e89896f9f7c873a5b81": {
          "model_module": "@jupyter-widgets/controls",
          "model_name": "FloatProgressModel",
          "model_module_version": "1.5.0",
          "state": {
            "_dom_classes": [],
            "_model_module": "@jupyter-widgets/controls",
            "_model_module_version": "1.5.0",
            "_model_name": "FloatProgressModel",
            "_view_count": null,
            "_view_module": "@jupyter-widgets/controls",
            "_view_module_version": "1.5.0",
            "_view_name": "ProgressView",
            "bar_style": "",
            "description": "",
            "description_tooltip": null,
            "layout": "IPY_MODEL_31a6abd8595b4d8ca069ec9c4411ef68",
            "max": 1,
            "min": 0,
            "orientation": "horizontal",
            "style": "IPY_MODEL_3a167fbb44e048d5ab00b3db08b8f304",
            "value": 1
          }
        },
        "25449b3752504c5c9fb13fcec0dffa18": {
          "model_module": "@jupyter-widgets/base",
          "model_name": "LayoutModel",
          "model_module_version": "1.2.0",
          "state": {
            "_model_module": "@jupyter-widgets/base",
            "_model_module_version": "1.2.0",
            "_model_name": "LayoutModel",
            "_view_count": null,
            "_view_module": "@jupyter-widgets/base",
            "_view_module_version": "1.2.0",
            "_view_name": "LayoutView",
            "align_content": null,
            "align_items": null,
            "align_self": null,
            "border": null,
            "bottom": null,
            "display": null,
            "flex": null,
            "flex_flow": null,
            "grid_area": null,
            "grid_auto_columns": null,
            "grid_auto_flow": null,
            "grid_auto_rows": null,
            "grid_column": null,
            "grid_gap": null,
            "grid_row": null,
            "grid_template_areas": null,
            "grid_template_columns": null,
            "grid_template_rows": null,
            "height": null,
            "justify_content": null,
            "justify_items": null,
            "left": null,
            "margin": null,
            "max_height": null,
            "max_width": null,
            "min_height": null,
            "min_width": null,
            "object_fit": null,
            "object_position": null,
            "order": null,
            "overflow": null,
            "overflow_x": null,
            "overflow_y": null,
            "padding": null,
            "right": null,
            "top": null,
            "visibility": null,
            "width": null
          }
        },
        "278a8c84e3bc4e0da72a3f6c330348a6": {
          "model_module": "@jupyter-widgets/base",
          "model_name": "LayoutModel",
          "model_module_version": "1.2.0",
          "state": {
            "_model_module": "@jupyter-widgets/base",
            "_model_module_version": "1.2.0",
            "_model_name": "LayoutModel",
            "_view_count": null,
            "_view_module": "@jupyter-widgets/base",
            "_view_module_version": "1.2.0",
            "_view_name": "LayoutView",
            "align_content": null,
            "align_items": null,
            "align_self": null,
            "border": null,
            "bottom": null,
            "display": null,
            "flex": null,
            "flex_flow": null,
            "grid_area": null,
            "grid_auto_columns": null,
            "grid_auto_flow": null,
            "grid_auto_rows": null,
            "grid_column": null,
            "grid_gap": null,
            "grid_row": null,
            "grid_template_areas": null,
            "grid_template_columns": null,
            "grid_template_rows": null,
            "height": null,
            "justify_content": null,
            "justify_items": null,
            "left": null,
            "margin": null,
            "max_height": null,
            "max_width": null,
            "min_height": null,
            "min_width": null,
            "object_fit": null,
            "object_position": null,
            "order": null,
            "overflow": null,
            "overflow_x": null,
            "overflow_y": null,
            "padding": null,
            "right": null,
            "top": null,
            "visibility": null,
            "width": null
          }
        },
        "b555b975e9a24c3cb3c009df0728068f": {
          "model_module": "@jupyter-widgets/controls",
          "model_name": "DescriptionStyleModel",
          "model_module_version": "1.5.0",
          "state": {
            "_model_module": "@jupyter-widgets/controls",
            "_model_module_version": "1.5.0",
            "_model_name": "DescriptionStyleModel",
            "_view_count": null,
            "_view_module": "@jupyter-widgets/base",
            "_view_module_version": "1.2.0",
            "_view_name": "StyleView",
            "description_width": ""
          }
        },
        "31a6abd8595b4d8ca069ec9c4411ef68": {
          "model_module": "@jupyter-widgets/base",
          "model_name": "LayoutModel",
          "model_module_version": "1.2.0",
          "state": {
            "_model_module": "@jupyter-widgets/base",
            "_model_module_version": "1.2.0",
            "_model_name": "LayoutModel",
            "_view_count": null,
            "_view_module": "@jupyter-widgets/base",
            "_view_module_version": "1.2.0",
            "_view_name": "LayoutView",
            "align_content": null,
            "align_items": null,
            "align_self": null,
            "border": null,
            "bottom": null,
            "display": null,
            "flex": null,
            "flex_flow": null,
            "grid_area": null,
            "grid_auto_columns": null,
            "grid_auto_flow": null,
            "grid_auto_rows": null,
            "grid_column": null,
            "grid_gap": null,
            "grid_row": null,
            "grid_template_areas": null,
            "grid_template_columns": null,
            "grid_template_rows": null,
            "height": null,
            "justify_content": null,
            "justify_items": null,
            "left": null,
            "margin": null,
            "max_height": null,
            "max_width": null,
            "min_height": null,
            "min_width": null,
            "object_fit": null,
            "object_position": null,
            "order": null,
            "overflow": null,
            "overflow_x": null,
            "overflow_y": null,
            "padding": null,
            "right": null,
            "top": null,
            "visibility": null,
            "width": null
          }
        },
        "3a167fbb44e048d5ab00b3db08b8f304": {
          "model_module": "@jupyter-widgets/controls",
          "model_name": "ProgressStyleModel",
          "model_module_version": "1.5.0",
          "state": {
            "_model_module": "@jupyter-widgets/controls",
            "_model_module_version": "1.5.0",
            "_model_name": "ProgressStyleModel",
            "_view_count": null,
            "_view_module": "@jupyter-widgets/base",
            "_view_module_version": "1.2.0",
            "_view_name": "StyleView",
            "bar_color": null,
            "description_width": ""
          }
        },
        "fe510f705dcd488cbad44c865b5b4a0c": {
          "model_module": "@jupyter-widgets/controls",
          "model_name": "VBoxModel",
          "model_module_version": "1.5.0",
          "state": {
            "_dom_classes": [],
            "_model_module": "@jupyter-widgets/controls",
            "_model_module_version": "1.5.0",
            "_model_name": "VBoxModel",
            "_view_count": null,
            "_view_module": "@jupyter-widgets/controls",
            "_view_module_version": "1.5.0",
            "_view_name": "VBoxView",
            "box_style": "",
            "children": [
              "IPY_MODEL_3a898e0e21d9433ab8d7beee29ecd91c",
              "IPY_MODEL_857fb9914a524a7c92c44f815ad4acaf"
            ],
            "layout": "IPY_MODEL_72ec8afecc8b4d2298b4e5872610c510"
          }
        },
        "3a898e0e21d9433ab8d7beee29ecd91c": {
          "model_module": "@jupyter-widgets/controls",
          "model_name": "LabelModel",
          "model_module_version": "1.5.0",
          "state": {
            "_dom_classes": [],
            "_model_module": "@jupyter-widgets/controls",
            "_model_module_version": "1.5.0",
            "_model_name": "LabelModel",
            "_view_count": null,
            "_view_module": "@jupyter-widgets/controls",
            "_view_module_version": "1.5.0",
            "_view_name": "LabelView",
            "description": "",
            "description_tooltip": null,
            "layout": "IPY_MODEL_c100a84e10424ed9a94ae47063e9bc5e",
            "placeholder": "​",
            "style": "IPY_MODEL_1b5e572179184edbb1e08eeaf6cec45c",
            "value": "0.062 MB of 0.062 MB uploaded\r"
          }
        },
        "857fb9914a524a7c92c44f815ad4acaf": {
          "model_module": "@jupyter-widgets/controls",
          "model_name": "FloatProgressModel",
          "model_module_version": "1.5.0",
          "state": {
            "_dom_classes": [],
            "_model_module": "@jupyter-widgets/controls",
            "_model_module_version": "1.5.0",
            "_model_name": "FloatProgressModel",
            "_view_count": null,
            "_view_module": "@jupyter-widgets/controls",
            "_view_module_version": "1.5.0",
            "_view_name": "ProgressView",
            "bar_style": "",
            "description": "",
            "description_tooltip": null,
            "layout": "IPY_MODEL_02ac73da4033469ba5870bc43ef64ba2",
            "max": 1,
            "min": 0,
            "orientation": "horizontal",
            "style": "IPY_MODEL_ea9f409d8aec48e5bf9934b6374766c4",
            "value": 1
          }
        },
        "72ec8afecc8b4d2298b4e5872610c510": {
          "model_module": "@jupyter-widgets/base",
          "model_name": "LayoutModel",
          "model_module_version": "1.2.0",
          "state": {
            "_model_module": "@jupyter-widgets/base",
            "_model_module_version": "1.2.0",
            "_model_name": "LayoutModel",
            "_view_count": null,
            "_view_module": "@jupyter-widgets/base",
            "_view_module_version": "1.2.0",
            "_view_name": "LayoutView",
            "align_content": null,
            "align_items": null,
            "align_self": null,
            "border": null,
            "bottom": null,
            "display": null,
            "flex": null,
            "flex_flow": null,
            "grid_area": null,
            "grid_auto_columns": null,
            "grid_auto_flow": null,
            "grid_auto_rows": null,
            "grid_column": null,
            "grid_gap": null,
            "grid_row": null,
            "grid_template_areas": null,
            "grid_template_columns": null,
            "grid_template_rows": null,
            "height": null,
            "justify_content": null,
            "justify_items": null,
            "left": null,
            "margin": null,
            "max_height": null,
            "max_width": null,
            "min_height": null,
            "min_width": null,
            "object_fit": null,
            "object_position": null,
            "order": null,
            "overflow": null,
            "overflow_x": null,
            "overflow_y": null,
            "padding": null,
            "right": null,
            "top": null,
            "visibility": null,
            "width": null
          }
        },
        "c100a84e10424ed9a94ae47063e9bc5e": {
          "model_module": "@jupyter-widgets/base",
          "model_name": "LayoutModel",
          "model_module_version": "1.2.0",
          "state": {
            "_model_module": "@jupyter-widgets/base",
            "_model_module_version": "1.2.0",
            "_model_name": "LayoutModel",
            "_view_count": null,
            "_view_module": "@jupyter-widgets/base",
            "_view_module_version": "1.2.0",
            "_view_name": "LayoutView",
            "align_content": null,
            "align_items": null,
            "align_self": null,
            "border": null,
            "bottom": null,
            "display": null,
            "flex": null,
            "flex_flow": null,
            "grid_area": null,
            "grid_auto_columns": null,
            "grid_auto_flow": null,
            "grid_auto_rows": null,
            "grid_column": null,
            "grid_gap": null,
            "grid_row": null,
            "grid_template_areas": null,
            "grid_template_columns": null,
            "grid_template_rows": null,
            "height": null,
            "justify_content": null,
            "justify_items": null,
            "left": null,
            "margin": null,
            "max_height": null,
            "max_width": null,
            "min_height": null,
            "min_width": null,
            "object_fit": null,
            "object_position": null,
            "order": null,
            "overflow": null,
            "overflow_x": null,
            "overflow_y": null,
            "padding": null,
            "right": null,
            "top": null,
            "visibility": null,
            "width": null
          }
        },
        "1b5e572179184edbb1e08eeaf6cec45c": {
          "model_module": "@jupyter-widgets/controls",
          "model_name": "DescriptionStyleModel",
          "model_module_version": "1.5.0",
          "state": {
            "_model_module": "@jupyter-widgets/controls",
            "_model_module_version": "1.5.0",
            "_model_name": "DescriptionStyleModel",
            "_view_count": null,
            "_view_module": "@jupyter-widgets/base",
            "_view_module_version": "1.2.0",
            "_view_name": "StyleView",
            "description_width": ""
          }
        },
        "02ac73da4033469ba5870bc43ef64ba2": {
          "model_module": "@jupyter-widgets/base",
          "model_name": "LayoutModel",
          "model_module_version": "1.2.0",
          "state": {
            "_model_module": "@jupyter-widgets/base",
            "_model_module_version": "1.2.0",
            "_model_name": "LayoutModel",
            "_view_count": null,
            "_view_module": "@jupyter-widgets/base",
            "_view_module_version": "1.2.0",
            "_view_name": "LayoutView",
            "align_content": null,
            "align_items": null,
            "align_self": null,
            "border": null,
            "bottom": null,
            "display": null,
            "flex": null,
            "flex_flow": null,
            "grid_area": null,
            "grid_auto_columns": null,
            "grid_auto_flow": null,
            "grid_auto_rows": null,
            "grid_column": null,
            "grid_gap": null,
            "grid_row": null,
            "grid_template_areas": null,
            "grid_template_columns": null,
            "grid_template_rows": null,
            "height": null,
            "justify_content": null,
            "justify_items": null,
            "left": null,
            "margin": null,
            "max_height": null,
            "max_width": null,
            "min_height": null,
            "min_width": null,
            "object_fit": null,
            "object_position": null,
            "order": null,
            "overflow": null,
            "overflow_x": null,
            "overflow_y": null,
            "padding": null,
            "right": null,
            "top": null,
            "visibility": null,
            "width": null
          }
        },
        "ea9f409d8aec48e5bf9934b6374766c4": {
          "model_module": "@jupyter-widgets/controls",
          "model_name": "ProgressStyleModel",
          "model_module_version": "1.5.0",
          "state": {
            "_model_module": "@jupyter-widgets/controls",
            "_model_module_version": "1.5.0",
            "_model_name": "ProgressStyleModel",
            "_view_count": null,
            "_view_module": "@jupyter-widgets/base",
            "_view_module_version": "1.2.0",
            "_view_name": "StyleView",
            "bar_color": null,
            "description_width": ""
          }
        }
      }
    }
  },
  "nbformat": 4,
  "nbformat_minor": 5
}